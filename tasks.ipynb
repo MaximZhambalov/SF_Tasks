{
 "cells": [
  {
   "cell_type": "code",
   "execution_count": 3,
   "metadata": {},
   "outputs": [],
   "source": [
    "def matrix_sum(matrix1, matrix2):\n",
    "    if (len(matrix1) != len(matrix2)) or (len(matrix1[0]) != len (matrix2[0])):\n",
    "        print('Error! Matrices dimensions are different!')\n",
    "        return None\n",
    "    m_lines = len(matrix1)\n",
    "    m_rows = len(matrix1[0])\n",
    "    sum_matrix = []\n",
    "    for i in range(m_lines):\n",
    "        line_tmp = []\n",
    "        for j in range(m_rows):\n",
    "            line_tmp.append(matrix1[i][j] + matrix2[i][j])\n",
    "        sum_matrix.append(line_tmp)\n",
    "    return sum_matrix"
   ]
  },
  {
   "cell_type": "code",
   "execution_count": 5,
   "metadata": {},
   "outputs": [
    {
     "name": "stdout",
     "output_type": "stream",
     "text": [
      "Error! Matrices dimensions are different!\n",
      "None\n"
     ]
    }
   ],
   "source": [
    "print(matrix_sum([\n",
    "          [1, 5, 4],\n",
    "          [4, 2, -2],\n",
    "          [7, 65, 88]\n",
    "], [\n",
    "          [1, 5, 4, 77],\n",
    "          [4, 2, -2],\n",
    "          [4, 2, -2]\n",
    "          ]))"
   ]
  },
  {
   "cell_type": "code",
   "execution_count": 8,
   "metadata": {},
   "outputs": [],
   "source": [
    "\n",
    "#ЗАДАНИЕ 2.8 (НА САМОПРОВЕРКУ)\n",
    "\n",
    "#Напишите программу, которая запрашивает у пользователя следующие данные : username, age, email о нескольких пользователях и собирает эти данные в структуру:\n",
    "\n",
    "#[(1, {'username': user1, 'age': age1, 'email': email1}), \n",
    "#(2, {'username': user2, 'age': age2, 'email': email2}), ... ]\n",
    "#Первый элемент каждого кортежа — порядковый номер пользователя, второй элемент — словарь с данными.\n",
    "#В итоге должен получиться список с кортежами.\n",
    "#Далее необходимо провести аналитику (собрать данные о пользователях в словарь)\n",
    "\n",
    "#{'username': [user1, user2, ...], 'age': [age1, age2, ...], email': [email1, email2, ...]}\n",
    "# #и вывести эту аналитику на экран.\n",
    "\n",
    "\n"
   ]
  },
  {
   "cell_type": "code",
   "execution_count": 3,
   "metadata": {},
   "outputs": [
    {
     "name": "stdout",
     "output_type": "stream",
     "text": [
      "Количество попыток: 8\n",
      "Ваш алгоритм угадывает число в среднем за: 9 попыток\n"
     ]
    }
   ],
   "source": [
    "import numpy as np\n",
    "\n",
    "def random_predict(number:int=99) -> int:\n",
    "    \"\"\"Рандомно угадываем число\n",
    "\n",
    "    Args:\n",
    "        number (int, optional): Загаданное число. Defaults to 1.\n",
    "\n",
    "    Returns:\n",
    "        int: Число попыток\n",
    "    \"\"\"\n",
    "\n",
    "    count = 0\n",
    "\n",
    "    while True:\n",
    "        count += 1\n",
    "        predict_number = np.random.randint(1, 101) # предполагаемое число от 1 до 100\n",
    "        if number == predict_number:\n",
    "            if count < 20:\n",
    "                break # выход из цикла, если меньше 20 попыток\n",
    "            else: \n",
    "                return random_predict() # запускаем функцию заново    \n",
    "    return(count)\n",
    "\n",
    "print(f'Количество попыток: {random_predict()}')\n",
    "\n",
    "def score_game(random_predict) -> int:\n",
    "    \"\"\"За какое количество попыток в среднем из 1000 подходов угадывает наш алгоритм\n",
    "\n",
    "    Args:\n",
    "        random_predict ([type]): функция угадывания\n",
    "\n",
    "    Returns:\n",
    "        int: среднее количество попыток\n",
    "    \"\"\"\n",
    "\n",
    "    count_ls = [] # список для сохранения количества попыток\n",
    "    np.random.seed(1) # фиксируем сид для воспроизводимости\n",
    "    random_array = np.random.randint(1, 101, size=(1000)) # загадали список чисел\n",
    "\n",
    "    for number in random_array:\n",
    "        count_ls.append(random_predict(number))\n",
    "\n",
    "    score = int(np.mean(count_ls)) # находим среднее количество попыток\n",
    "\n",
    "    print(f'Ваш алгоритм угадывает число в среднем за: {score} попыток')\n",
    "    return(score)\n",
    "\n",
    "# RUN\n",
    "if __name__ == '__main__':\n",
    "    score_game(random_predict)"
   ]
  },
  {
   "cell_type": "code",
   "execution_count": 3,
   "metadata": {},
   "outputs": [
    {
     "name": "stdout",
     "output_type": "stream",
     "text": [
      "6\n"
     ]
    }
   ],
   "source": [
    "def find_min_number(a, b, c):\n",
    "    if b > a < c:\n",
    "        return a\n",
    "    elif a > b < c:\n",
    "        return b\n",
    "    else:\n",
    "        return c\n",
    "\n",
    "print(find_min_number(6, 22, 13))"
   ]
  },
  {
   "cell_type": "code",
   "execution_count": 4,
   "metadata": {},
   "outputs": [
    {
     "name": "stdout",
     "output_type": "stream",
     "text": [
      "0\n",
      "1\n",
      "2\n",
      "3\n",
      "4\n",
      "5\n"
     ]
    }
   ],
   "source": [
    "a = [1, 0, 12, 4, 523, 34]\n",
    "for i in range(len(a)):\n",
    "    print (i)"
   ]
  }
 ],
 "metadata": {
  "kernelspec": {
   "display_name": "Python 3",
   "language": "python",
   "name": "python3"
  },
  "language_info": {
   "codemirror_mode": {
    "name": "ipython",
    "version": 3
   },
   "file_extension": ".py",
   "mimetype": "text/x-python",
   "name": "python",
   "nbconvert_exporter": "python",
   "pygments_lexer": "ipython3",
   "version": "3.10.9"
  },
  "orig_nbformat": 4,
  "vscode": {
   "interpreter": {
    "hash": "0a1711d0bf5b863f53104549f70b879233b46cc07d7206b040e92c4d761b405c"
   }
  }
 },
 "nbformat": 4,
 "nbformat_minor": 2
}
