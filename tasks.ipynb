{
 "cells": [
  {
   "cell_type": "code",
   "execution_count": 1,
   "metadata": {},
   "outputs": [],
   "source": [
    "def matrix_sum(matrix1, matrix2):\n",
    "    if (len(matrix1) != len(matrix2)) or (len(matrix1[0]) != len (matrix2[0])):\n",
    "        print('Error! Matrices dimensions are different!')\n",
    "        return None\n",
    "    m_lines = len(matrix1)\n",
    "    m_rows = len(matrix1[0])\n",
    "    sum_matrix = []\n",
    "    for i in range(m_lines):\n",
    "        line_tmp = []\n",
    "        for j in range(m_rows):\n",
    "            line_tmp.append(matrix1[i][j] + matrix2[i][j])\n",
    "        sum_matrix.append(line_tmp)\n",
    "    return sum_matrix"
   ]
  },
  {
   "cell_type": "code",
   "execution_count": 2,
   "metadata": {},
   "outputs": [
    {
     "name": "stdout",
     "output_type": "stream",
     "text": [
      "Error! Matrices dimensions are different!\n",
      "None\n"
     ]
    }
   ],
   "source": [
    "print(matrix_sum([\n",
    "          [1, 5, 4],\n",
    "          [4, 2, -2],\n",
    "          [7, 65, 88]\n",
    "], [\n",
    "          [1, 5, 4, 77],\n",
    "          [4, 2, -2],\n",
    "          [4, 2, -2]\n",
    "          ]))"
   ]
  },
  {
   "cell_type": "code",
   "execution_count": 72,
   "metadata": {},
   "outputs": [
    {
     "data": {
      "text/plain": [
       "{'username': [], 'age': [], 'email': []}"
      ]
     },
     "metadata": {},
     "output_type": "display_data"
    }
   ],
   "source": [
    "\n",
    "#ЗАДАНИЕ 2.8 (НА САМОПРОВЕРКУ)\n",
    "\n",
    "#Напишите программу, которая запрашивает у пользователя следующие данные : username, age, email о нескольких пользователях и собирает эти данные в структуру:\n",
    "\n",
    "#[(1, {'username': user1, 'age': age1, 'email': email1}), \n",
    "#(2, {'username': user2, 'age': age2, 'email': email2}), ... ]\n",
    "#Первый элемент каждого кортежа — порядковый номер пользователя, второй элемент — словарь с данными.\n",
    "#В итоге должен получиться список с кортежами.\n",
    "#Далее необходимо провести аналитику (собрать данные о пользователях в словарь)\n",
    "\n",
    "#{'username': [user1, user2, ...], 'age': [age1, age2, ...], email': [email1, email2, ...]}\n",
    "# #и вывести эту аналитику на экран.\n",
    "new_list = []\n",
    "\n",
    "def asker():\n",
    "    username = input('Enter your name: ')\n",
    "    while True:\n",
    "        age = input('Enter your age: ')\n",
    "        if not age.isdigit():\n",
    "            print ('Enter correct age')\n",
    "        else:\n",
    "            break\n",
    "    email = input('Enter your email: ')\n",
    "    new_list.append((len(new_list) + 1, {'username': username, 'age': age, 'email':email}))\n",
    "\n",
    "asker()\n",
    "asker()\n",
    "asker()\n",
    "\n",
    "final_dict = {'username': [], 'age': [], 'email': []}\n",
    "\n",
    "for elem in new_list:\n",
    "    final_dict['age'].append(elem[1]['age'])\n",
    "    final_dict['email'].append(elem[1]['email'])\n",
    "    final_dict['username'].append(elem[1]['username'])\n",
    "\n",
    "display(final_dict)"
   ]
  },
  {
   "cell_type": "code",
   "execution_count": 54,
   "metadata": {},
   "outputs": [
    {
     "name": "stdout",
     "output_type": "stream",
     "text": [
      "aaa\n"
     ]
    }
   ],
   "source": [
    "def test():\n",
    "    print('aaa')\n",
    "\n",
    "test()"
   ]
  },
  {
   "cell_type": "code",
   "execution_count": 3,
   "metadata": {},
   "outputs": [
    {
     "name": "stdout",
     "output_type": "stream",
     "text": [
      "Количество попыток: 6\n",
      "Ваш алгоритм угадывает число в среднем за: 9 попыток\n"
     ]
    }
   ],
   "source": [
    "import numpy as np\n",
    "\n",
    "def random_predict(number:int=99) -> int:\n",
    "    \"\"\"Рандомно угадываем число\n",
    "\n",
    "    Args:\n",
    "        number (int, optional): Загаданное число. Defaults to 1.\n",
    "\n",
    "    Returns:\n",
    "        int: Число попыток\n",
    "    \"\"\"\n",
    "\n",
    "    count = 0\n",
    "\n",
    "    while True:\n",
    "        count += 1\n",
    "        predict_number = np.random.randint(1, 101) # предполагаемое число от 1 до 100\n",
    "        if number == predict_number:\n",
    "            if count < 20:\n",
    "                break # выход из цикла, если меньше 20 попыток\n",
    "            else: \n",
    "                return random_predict() # запускаем функцию заново    \n",
    "    return(count)\n",
    "\n",
    "print(f'Количество попыток: {random_predict()}')\n",
    "\n",
    "def score_game(random_predict) -> int:\n",
    "    \"\"\"За какое количество попыток в среднем из 1000 подходов угадывает наш алгоритм\n",
    "\n",
    "    Args:\n",
    "        random_predict ([type]): функция угадывания\n",
    "\n",
    "    Returns:\n",
    "        int: среднее количество попыток\n",
    "    \"\"\"\n",
    "\n",
    "    count_ls = [] # список для сохранения количества попыток\n",
    "    np.random.seed(1) # фиксируем сид для воспроизводимости\n",
    "    random_array = np.random.randint(1, 101, size=(1000)) # загадали список чисел\n",
    "\n",
    "    for number in random_array:\n",
    "        count_ls.append(random_predict(number))\n",
    "\n",
    "    score = int(np.mean(count_ls)) # находим среднее количество попыток\n",
    "\n",
    "    print(f'Ваш алгоритм угадывает число в среднем за: {score} попыток')\n",
    "    return(score)\n",
    "\n",
    "# RUN\n",
    "if __name__ == '__main__':\n",
    "    score_game(random_predict)"
   ]
  },
  {
   "cell_type": "code",
   "execution_count": 3,
   "metadata": {},
   "outputs": [
    {
     "name": "stdout",
     "output_type": "stream",
     "text": [
      "6\n"
     ]
    }
   ],
   "source": [
    "def find_min_number(a, b, c):\n",
    "    if b > a < c:\n",
    "        return a\n",
    "    elif a > b < c:\n",
    "        return b\n",
    "    else:\n",
    "        return c\n",
    "\n",
    "print(find_min_number(6, 22, 13))"
   ]
  },
  {
   "cell_type": "code",
   "execution_count": 49,
   "metadata": {},
   "outputs": [
    {
     "data": {
      "text/plain": [
       "2"
      ]
     },
     "execution_count": 49,
     "metadata": {},
     "output_type": "execute_result"
    }
   ],
   "source": [
    "# Вот так кортеж превратился в генератор о_О ничего удивительного, я просто случайно написал краткий код для генератора\n",
    "a = (1, 2, 3)\n",
    "a2 = (z*2 for z in a)\n",
    "next(a2)"
   ]
  },
  {
   "cell_type": "code",
   "execution_count": 36,
   "metadata": {},
   "outputs": [],
   "source": [
    "# Задание 5.7 (модуль python5-2)\n",
    "\n",
    "l = [20, 30, 40, 55, 100]\n",
    "\n",
    "def inf_iter(l_in):\n",
    "    while True:\n",
    "        for elem in l_in:\n",
    "            yield elem"
   ]
  },
  {
   "cell_type": "code",
   "execution_count": 39,
   "metadata": {},
   "outputs": [
    {
     "name": "stdout",
     "output_type": "stream",
     "text": [
      "1 0 a\n",
      "2 1 b\n",
      "3 2 c\n"
     ]
    }
   ],
   "source": [
    "dict_of_numbers = {1:'a', 2:'b', 3:'c'}\n",
    "for index, number in enumerate(dict_of_numbers):\n",
    "     print(number, index, dict_of_numbers[number])"
   ]
  },
  {
   "cell_type": "code",
   "execution_count": 47,
   "metadata": {},
   "outputs": [
    {
     "name": "stdout",
     "output_type": "stream",
     "text": [
      "[3, 4, 5]\n",
      "1\n",
      "5\n"
     ]
    }
   ],
   "source": [
    "numbers = [1,2,3,4,5]\n",
    "a,b, *rest = numbers\n",
    "c,d,e,f,g = numbers\n",
    "*beg, a = numbers\n",
    "print(rest)\n",
    "print (c)\n",
    "print (a)"
   ]
  },
  {
   "cell_type": "code",
   "execution_count": 50,
   "metadata": {},
   "outputs": [
    {
     "data": {
      "text/plain": [
       "[5.0, 6.0, 0.0]"
      ]
     },
     "metadata": {},
     "output_type": "display_data"
    }
   ],
   "source": [
    "def root_generator(values):\n",
    "    for val in values:\n",
    "        if val >= 0:\n",
    "            result = val ** 0.5\n",
    "            yield result\n",
    "\n",
    "l = [-5, 25, 36, -25, 0]\n",
    "l_fin = list(root_generator(l))\n",
    "display(l_fin)"
   ]
  }
 ],
 "metadata": {
  "kernelspec": {
   "display_name": "Python 3",
   "language": "python",
   "name": "python3"
  },
  "language_info": {
   "codemirror_mode": {
    "name": "ipython",
    "version": 3
   },
   "file_extension": ".py",
   "mimetype": "text/x-python",
   "name": "python",
   "nbconvert_exporter": "python",
   "pygments_lexer": "ipython3",
   "version": "3.10.9"
  },
  "orig_nbformat": 4,
  "vscode": {
   "interpreter": {
    "hash": "0a1711d0bf5b863f53104549f70b879233b46cc07d7206b040e92c4d761b405c"
   }
  }
 },
 "nbformat": 4,
 "nbformat_minor": 2
}
