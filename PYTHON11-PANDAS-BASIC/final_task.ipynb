{
 "cells": [
  {
   "cell_type": "code",
   "execution_count": 2,
   "metadata": {},
   "outputs": [],
   "source": [
    "import pandas as pd"
   ]
  },
  {
   "cell_type": "code",
   "execution_count": 3,
   "metadata": {},
   "outputs": [],
   "source": [
    "bike_df = pd.read_csv('data/citibike-tripdata.csv', sep=',')"
   ]
  },
  {
   "cell_type": "code",
   "execution_count": 5,
   "metadata": {},
   "outputs": [
    {
     "data": {
      "text/html": [
       "<div>\n",
       "<style scoped>\n",
       "    .dataframe tbody tr th:only-of-type {\n",
       "        vertical-align: middle;\n",
       "    }\n",
       "\n",
       "    .dataframe tbody tr th {\n",
       "        vertical-align: top;\n",
       "    }\n",
       "\n",
       "    .dataframe thead th {\n",
       "        text-align: right;\n",
       "    }\n",
       "</style>\n",
       "<table border=\"1\" class=\"dataframe\">\n",
       "  <thead>\n",
       "    <tr style=\"text-align: right;\">\n",
       "      <th></th>\n",
       "      <th>starttime</th>\n",
       "      <th>stoptime</th>\n",
       "      <th>start station name</th>\n",
       "      <th>end station name</th>\n",
       "      <th>usertype</th>\n",
       "    </tr>\n",
       "  </thead>\n",
       "  <tbody>\n",
       "    <tr>\n",
       "      <th>count</th>\n",
       "      <td>300000</td>\n",
       "      <td>300000</td>\n",
       "      <td>299831</td>\n",
       "      <td>299831</td>\n",
       "      <td>300000</td>\n",
       "    </tr>\n",
       "    <tr>\n",
       "      <th>unique</th>\n",
       "      <td>299836</td>\n",
       "      <td>299813</td>\n",
       "      <td>759</td>\n",
       "      <td>765</td>\n",
       "      <td>2</td>\n",
       "    </tr>\n",
       "    <tr>\n",
       "      <th>top</th>\n",
       "      <td>2018-09-02 13:59:41.7770</td>\n",
       "      <td>2018-09-04 17:51:07.9110</td>\n",
       "      <td>Grand Army Plaza &amp; Central Park S</td>\n",
       "      <td>West St &amp; Chambers St</td>\n",
       "      <td>Subscriber</td>\n",
       "    </tr>\n",
       "    <tr>\n",
       "      <th>freq</th>\n",
       "      <td>2</td>\n",
       "      <td>2</td>\n",
       "      <td>1928</td>\n",
       "      <td>1963</td>\n",
       "      <td>232202</td>\n",
       "    </tr>\n",
       "  </tbody>\n",
       "</table>\n",
       "</div>"
      ],
      "text/plain": [
       "                       starttime                  stoptime  \\\n",
       "count                     300000                    300000   \n",
       "unique                    299836                    299813   \n",
       "top     2018-09-02 13:59:41.7770  2018-09-04 17:51:07.9110   \n",
       "freq                           2                         2   \n",
       "\n",
       "                       start station name       end station name    usertype  \n",
       "count                              299831                 299831      300000  \n",
       "unique                                759                    765           2  \n",
       "top     Grand Army Plaza & Central Park S  West St & Chambers St  Subscriber  \n",
       "freq                                 1928                   1963      232202  "
      ]
     },
     "execution_count": 5,
     "metadata": {},
     "output_type": "execute_result"
    }
   ],
   "source": [
    "bike_df.describe(include='object')"
   ]
  },
  {
   "cell_type": "code",
   "execution_count": 6,
   "metadata": {},
   "outputs": [
    {
     "data": {
      "text/html": [
       "<div>\n",
       "<style scoped>\n",
       "    .dataframe tbody tr th:only-of-type {\n",
       "        vertical-align: middle;\n",
       "    }\n",
       "\n",
       "    .dataframe tbody tr th {\n",
       "        vertical-align: top;\n",
       "    }\n",
       "\n",
       "    .dataframe thead th {\n",
       "        text-align: right;\n",
       "    }\n",
       "</style>\n",
       "<table border=\"1\" class=\"dataframe\">\n",
       "  <thead>\n",
       "    <tr style=\"text-align: right;\">\n",
       "      <th></th>\n",
       "      <th>starttime</th>\n",
       "      <th>stoptime</th>\n",
       "      <th>start station id</th>\n",
       "      <th>start station name</th>\n",
       "      <th>start station latitude</th>\n",
       "      <th>start station longitude</th>\n",
       "      <th>end station id</th>\n",
       "      <th>end station name</th>\n",
       "      <th>end station latitude</th>\n",
       "      <th>end station longitude</th>\n",
       "      <th>bikeid</th>\n",
       "      <th>usertype</th>\n",
       "      <th>birth year</th>\n",
       "      <th>gender</th>\n",
       "    </tr>\n",
       "  </thead>\n",
       "  <tbody>\n",
       "    <tr>\n",
       "      <th>0</th>\n",
       "      <td>2018-09-01 00:00:05.2690</td>\n",
       "      <td>2018-09-01 00:27:20.6340</td>\n",
       "      <td>252.0</td>\n",
       "      <td>MacDougal St &amp; Washington Sq</td>\n",
       "      <td>40.732264</td>\n",
       "      <td>-73.998522</td>\n",
       "      <td>366.0</td>\n",
       "      <td>Clinton Ave &amp; Myrtle Ave</td>\n",
       "      <td>40.693261</td>\n",
       "      <td>-73.968896</td>\n",
       "      <td>25577</td>\n",
       "      <td>Subscriber</td>\n",
       "      <td>1980</td>\n",
       "      <td>1</td>\n",
       "    </tr>\n",
       "    <tr>\n",
       "      <th>1</th>\n",
       "      <td>2018-09-01 00:00:11.2810</td>\n",
       "      <td>2018-09-01 00:02:23.4810</td>\n",
       "      <td>314.0</td>\n",
       "      <td>Cadman Plaza West &amp; Montague St</td>\n",
       "      <td>40.693830</td>\n",
       "      <td>-73.990539</td>\n",
       "      <td>3242.0</td>\n",
       "      <td>Schermerhorn St &amp; Court St</td>\n",
       "      <td>40.691029</td>\n",
       "      <td>-73.991834</td>\n",
       "      <td>34377</td>\n",
       "      <td>Subscriber</td>\n",
       "      <td>1969</td>\n",
       "      <td>0</td>\n",
       "    </tr>\n",
       "    <tr>\n",
       "      <th>2</th>\n",
       "      <td>2018-09-01 00:00:20.6490</td>\n",
       "      <td>2018-09-01 00:55:58.5470</td>\n",
       "      <td>3142.0</td>\n",
       "      <td>1 Ave &amp; E 62 St</td>\n",
       "      <td>40.761227</td>\n",
       "      <td>-73.960940</td>\n",
       "      <td>3384.0</td>\n",
       "      <td>Smith St &amp; 3 St</td>\n",
       "      <td>40.678724</td>\n",
       "      <td>-73.995991</td>\n",
       "      <td>30496</td>\n",
       "      <td>Subscriber</td>\n",
       "      <td>1975</td>\n",
       "      <td>1</td>\n",
       "    </tr>\n",
       "    <tr>\n",
       "      <th>3</th>\n",
       "      <td>2018-09-01 00:00:21.7460</td>\n",
       "      <td>2018-09-01 00:07:38.5830</td>\n",
       "      <td>308.0</td>\n",
       "      <td>St James Pl &amp; Oliver St</td>\n",
       "      <td>40.713079</td>\n",
       "      <td>-73.998512</td>\n",
       "      <td>3690.0</td>\n",
       "      <td>Park Pl &amp; Church St</td>\n",
       "      <td>40.713342</td>\n",
       "      <td>-74.009355</td>\n",
       "      <td>28866</td>\n",
       "      <td>Subscriber</td>\n",
       "      <td>1984</td>\n",
       "      <td>2</td>\n",
       "    </tr>\n",
       "    <tr>\n",
       "      <th>4</th>\n",
       "      <td>2018-09-01 00:00:27.3150</td>\n",
       "      <td>2018-09-01 02:21:25.3080</td>\n",
       "      <td>345.0</td>\n",
       "      <td>W 13 St &amp; 6 Ave</td>\n",
       "      <td>40.736494</td>\n",
       "      <td>-73.997044</td>\n",
       "      <td>380.0</td>\n",
       "      <td>W 4 St &amp; 7 Ave S</td>\n",
       "      <td>40.734011</td>\n",
       "      <td>-74.002939</td>\n",
       "      <td>20943</td>\n",
       "      <td>Customer</td>\n",
       "      <td>1994</td>\n",
       "      <td>1</td>\n",
       "    </tr>\n",
       "  </tbody>\n",
       "</table>\n",
       "</div>"
      ],
      "text/plain": [
       "                  starttime                  stoptime  start station id  \\\n",
       "0  2018-09-01 00:00:05.2690  2018-09-01 00:27:20.6340             252.0   \n",
       "1  2018-09-01 00:00:11.2810  2018-09-01 00:02:23.4810             314.0   \n",
       "2  2018-09-01 00:00:20.6490  2018-09-01 00:55:58.5470            3142.0   \n",
       "3  2018-09-01 00:00:21.7460  2018-09-01 00:07:38.5830             308.0   \n",
       "4  2018-09-01 00:00:27.3150  2018-09-01 02:21:25.3080             345.0   \n",
       "\n",
       "                start station name  start station latitude  \\\n",
       "0     MacDougal St & Washington Sq               40.732264   \n",
       "1  Cadman Plaza West & Montague St               40.693830   \n",
       "2                  1 Ave & E 62 St               40.761227   \n",
       "3          St James Pl & Oliver St               40.713079   \n",
       "4                  W 13 St & 6 Ave               40.736494   \n",
       "\n",
       "   start station longitude  end station id            end station name  \\\n",
       "0               -73.998522           366.0    Clinton Ave & Myrtle Ave   \n",
       "1               -73.990539          3242.0  Schermerhorn St & Court St   \n",
       "2               -73.960940          3384.0             Smith St & 3 St   \n",
       "3               -73.998512          3690.0         Park Pl & Church St   \n",
       "4               -73.997044           380.0            W 4 St & 7 Ave S   \n",
       "\n",
       "   end station latitude  end station longitude  bikeid    usertype  \\\n",
       "0             40.693261             -73.968896   25577  Subscriber   \n",
       "1             40.691029             -73.991834   34377  Subscriber   \n",
       "2             40.678724             -73.995991   30496  Subscriber   \n",
       "3             40.713342             -74.009355   28866  Subscriber   \n",
       "4             40.734011             -74.002939   20943    Customer   \n",
       "\n",
       "   birth year  gender  \n",
       "0        1980       1  \n",
       "1        1969       0  \n",
       "2        1975       1  \n",
       "3        1984       2  \n",
       "4        1994       1  "
      ]
     },
     "execution_count": 6,
     "metadata": {},
     "output_type": "execute_result"
    }
   ],
   "source": [
    "bike_df.head()"
   ]
  },
  {
   "cell_type": "code",
   "execution_count": 7,
   "metadata": {},
   "outputs": [
    {
     "name": "stdout",
     "output_type": "stream",
     "text": [
      "<class 'pandas.core.frame.DataFrame'>\n",
      "RangeIndex: 300000 entries, 0 to 299999\n",
      "Data columns (total 14 columns):\n",
      " #   Column                   Non-Null Count   Dtype  \n",
      "---  ------                   --------------   -----  \n",
      " 0   starttime                300000 non-null  object \n",
      " 1   stoptime                 300000 non-null  object \n",
      " 2   start station id         299831 non-null  float64\n",
      " 3   start station name       299831 non-null  object \n",
      " 4   start station latitude   300000 non-null  float64\n",
      " 5   start station longitude  300000 non-null  float64\n",
      " 6   end station id           299831 non-null  float64\n",
      " 7   end station name         299831 non-null  object \n",
      " 8   end station latitude     300000 non-null  float64\n",
      " 9   end station longitude    300000 non-null  float64\n",
      " 10  bikeid                   300000 non-null  int64  \n",
      " 11  usertype                 300000 non-null  object \n",
      " 12  birth year               300000 non-null  int64  \n",
      " 13  gender                   300000 non-null  int64  \n",
      "dtypes: float64(6), int64(3), object(5)\n",
      "memory usage: 32.0+ MB\n"
     ]
    }
   ],
   "source": [
    "bike_df.info()"
   ]
  },
  {
   "cell_type": "code",
   "execution_count": 17,
   "metadata": {},
   "outputs": [
    {
     "data": {
      "text/plain": [
       "Grand Army Plaza & Central Park S    1928\n",
       "Central Park S & 6 Ave               1909\n",
       "Pershing Square North                1873\n",
       "12 Ave & W 40 St                     1845\n",
       "West St & Chambers St                1835\n",
       "                                     ... \n",
       "NYCBS Depot - GOW                      15\n",
       "Franklin Ave & Empire Blvd             11\n",
       "Railroad Ave & Kay Ave                  9\n",
       "47 Ave & Skillman Ave                   7\n",
       "Eastern Pkwy & Washington Ave           6\n",
       "Name: start station name, Length: 759, dtype: int64"
      ]
     },
     "execution_count": 17,
     "metadata": {},
     "output_type": "execute_result"
    }
   ],
   "source": [
    "bike_df['start station name'].value_counts()"
   ]
  },
  {
   "cell_type": "code",
   "execution_count": 12,
   "metadata": {},
   "outputs": [
    {
     "data": {
      "text/plain": [
       "1    183582\n",
       "2     74506\n",
       "0     41912\n",
       "Name: gender, dtype: int64"
      ]
     },
     "execution_count": 12,
     "metadata": {},
     "output_type": "execute_result"
    }
   ],
   "source": [
    "bike_df['gender'].value_counts()"
   ]
  },
  {
   "cell_type": "code",
   "execution_count": 16,
   "metadata": {},
   "outputs": [
    {
     "data": {
      "text/plain": [
       "1885"
      ]
     },
     "execution_count": 16,
     "metadata": {},
     "output_type": "execute_result"
    }
   ],
   "source": [
    "bike_df['birth year'].min()"
   ]
  },
  {
   "cell_type": "code",
   "execution_count": 27,
   "metadata": {},
   "outputs": [
    {
     "data": {
      "text/html": [
       "<div>\n",
       "<style scoped>\n",
       "    .dataframe tbody tr th:only-of-type {\n",
       "        vertical-align: middle;\n",
       "    }\n",
       "\n",
       "    .dataframe tbody tr th {\n",
       "        vertical-align: top;\n",
       "    }\n",
       "\n",
       "    .dataframe thead th {\n",
       "        text-align: right;\n",
       "    }\n",
       "</style>\n",
       "<table border=\"1\" class=\"dataframe\">\n",
       "  <thead>\n",
       "    <tr style=\"text-align: right;\">\n",
       "      <th></th>\n",
       "      <th>starttime</th>\n",
       "      <th>stoptime</th>\n",
       "      <th>start station name</th>\n",
       "      <th>start station latitude</th>\n",
       "      <th>start station longitude</th>\n",
       "      <th>end station name</th>\n",
       "      <th>end station latitude</th>\n",
       "      <th>end station longitude</th>\n",
       "      <th>bikeid</th>\n",
       "      <th>usertype</th>\n",
       "      <th>birth year</th>\n",
       "      <th>gender</th>\n",
       "    </tr>\n",
       "  </thead>\n",
       "  <tbody>\n",
       "    <tr>\n",
       "      <th>0</th>\n",
       "      <td>2018-09-01 00:00:05.2690</td>\n",
       "      <td>2018-09-01 00:27:20.6340</td>\n",
       "      <td>MacDougal St &amp; Washington Sq</td>\n",
       "      <td>40.732264</td>\n",
       "      <td>-73.998522</td>\n",
       "      <td>Clinton Ave &amp; Myrtle Ave</td>\n",
       "      <td>40.693261</td>\n",
       "      <td>-73.968896</td>\n",
       "      <td>25577</td>\n",
       "      <td>Subscriber</td>\n",
       "      <td>38</td>\n",
       "      <td>1</td>\n",
       "    </tr>\n",
       "    <tr>\n",
       "      <th>1</th>\n",
       "      <td>2018-09-01 00:00:11.2810</td>\n",
       "      <td>2018-09-01 00:02:23.4810</td>\n",
       "      <td>Cadman Plaza West &amp; Montague St</td>\n",
       "      <td>40.693830</td>\n",
       "      <td>-73.990539</td>\n",
       "      <td>Schermerhorn St &amp; Court St</td>\n",
       "      <td>40.691029</td>\n",
       "      <td>-73.991834</td>\n",
       "      <td>34377</td>\n",
       "      <td>Subscriber</td>\n",
       "      <td>49</td>\n",
       "      <td>0</td>\n",
       "    </tr>\n",
       "    <tr>\n",
       "      <th>2</th>\n",
       "      <td>2018-09-01 00:00:20.6490</td>\n",
       "      <td>2018-09-01 00:55:58.5470</td>\n",
       "      <td>1 Ave &amp; E 62 St</td>\n",
       "      <td>40.761227</td>\n",
       "      <td>-73.960940</td>\n",
       "      <td>Smith St &amp; 3 St</td>\n",
       "      <td>40.678724</td>\n",
       "      <td>-73.995991</td>\n",
       "      <td>30496</td>\n",
       "      <td>Subscriber</td>\n",
       "      <td>43</td>\n",
       "      <td>1</td>\n",
       "    </tr>\n",
       "    <tr>\n",
       "      <th>3</th>\n",
       "      <td>2018-09-01 00:00:21.7460</td>\n",
       "      <td>2018-09-01 00:07:38.5830</td>\n",
       "      <td>St James Pl &amp; Oliver St</td>\n",
       "      <td>40.713079</td>\n",
       "      <td>-73.998512</td>\n",
       "      <td>Park Pl &amp; Church St</td>\n",
       "      <td>40.713342</td>\n",
       "      <td>-74.009355</td>\n",
       "      <td>28866</td>\n",
       "      <td>Subscriber</td>\n",
       "      <td>34</td>\n",
       "      <td>2</td>\n",
       "    </tr>\n",
       "    <tr>\n",
       "      <th>4</th>\n",
       "      <td>2018-09-01 00:00:27.3150</td>\n",
       "      <td>2018-09-01 02:21:25.3080</td>\n",
       "      <td>W 13 St &amp; 6 Ave</td>\n",
       "      <td>40.736494</td>\n",
       "      <td>-73.997044</td>\n",
       "      <td>W 4 St &amp; 7 Ave S</td>\n",
       "      <td>40.734011</td>\n",
       "      <td>-74.002939</td>\n",
       "      <td>20943</td>\n",
       "      <td>Customer</td>\n",
       "      <td>24</td>\n",
       "      <td>1</td>\n",
       "    </tr>\n",
       "    <tr>\n",
       "      <th>...</th>\n",
       "      <td>...</td>\n",
       "      <td>...</td>\n",
       "      <td>...</td>\n",
       "      <td>...</td>\n",
       "      <td>...</td>\n",
       "      <td>...</td>\n",
       "      <td>...</td>\n",
       "      <td>...</td>\n",
       "      <td>...</td>\n",
       "      <td>...</td>\n",
       "      <td>...</td>\n",
       "      <td>...</td>\n",
       "    </tr>\n",
       "    <tr>\n",
       "      <th>299995</th>\n",
       "      <td>2018-09-05 19:08:27.8460</td>\n",
       "      <td>2018-09-05 19:15:51.4940</td>\n",
       "      <td>W 26 St &amp; 8 Ave</td>\n",
       "      <td>40.747348</td>\n",
       "      <td>-73.997236</td>\n",
       "      <td>W 37 St &amp; 10 Ave</td>\n",
       "      <td>40.756604</td>\n",
       "      <td>-73.997901</td>\n",
       "      <td>19531</td>\n",
       "      <td>Subscriber</td>\n",
       "      <td>28</td>\n",
       "      <td>2</td>\n",
       "    </tr>\n",
       "    <tr>\n",
       "      <th>299996</th>\n",
       "      <td>2018-09-05 19:08:28.3700</td>\n",
       "      <td>2018-09-05 19:20:01.5080</td>\n",
       "      <td>Kent Ave &amp; N 7 St</td>\n",
       "      <td>40.720368</td>\n",
       "      <td>-73.961651</td>\n",
       "      <td>Graham Ave &amp; Conselyea St</td>\n",
       "      <td>40.715143</td>\n",
       "      <td>-73.944507</td>\n",
       "      <td>34020</td>\n",
       "      <td>Subscriber</td>\n",
       "      <td>36</td>\n",
       "      <td>1</td>\n",
       "    </tr>\n",
       "    <tr>\n",
       "      <th>299997</th>\n",
       "      <td>2018-09-05 19:08:27.5090</td>\n",
       "      <td>2018-09-05 19:13:40.5060</td>\n",
       "      <td>Gansevoort St &amp; Hudson St</td>\n",
       "      <td>40.739448</td>\n",
       "      <td>-74.005070</td>\n",
       "      <td>W 18 St &amp; 6 Ave</td>\n",
       "      <td>40.739713</td>\n",
       "      <td>-73.994564</td>\n",
       "      <td>33220</td>\n",
       "      <td>Subscriber</td>\n",
       "      <td>27</td>\n",
       "      <td>1</td>\n",
       "    </tr>\n",
       "    <tr>\n",
       "      <th>299998</th>\n",
       "      <td>2018-09-05 19:08:29.2300</td>\n",
       "      <td>2018-09-05 20:04:29.3220</td>\n",
       "      <td>W 11 St &amp; 6 Ave</td>\n",
       "      <td>40.735324</td>\n",
       "      <td>-73.998004</td>\n",
       "      <td>Broadway &amp; W 60 St</td>\n",
       "      <td>40.769155</td>\n",
       "      <td>-73.981918</td>\n",
       "      <td>34744</td>\n",
       "      <td>Subscriber</td>\n",
       "      <td>43</td>\n",
       "      <td>0</td>\n",
       "    </tr>\n",
       "    <tr>\n",
       "      <th>299999</th>\n",
       "      <td>2018-09-05 19:08:29.7110</td>\n",
       "      <td>2018-09-05 19:12:14.7620</td>\n",
       "      <td>1 Ave &amp; E 110 St</td>\n",
       "      <td>40.792327</td>\n",
       "      <td>-73.938300</td>\n",
       "      <td>Lexington Ave &amp; E 111 St</td>\n",
       "      <td>40.795412</td>\n",
       "      <td>-73.944123</td>\n",
       "      <td>18292</td>\n",
       "      <td>Subscriber</td>\n",
       "      <td>52</td>\n",
       "      <td>1</td>\n",
       "    </tr>\n",
       "  </tbody>\n",
       "</table>\n",
       "<p>300000 rows × 12 columns</p>\n",
       "</div>"
      ],
      "text/plain": [
       "                       starttime                  stoptime  \\\n",
       "0       2018-09-01 00:00:05.2690  2018-09-01 00:27:20.6340   \n",
       "1       2018-09-01 00:00:11.2810  2018-09-01 00:02:23.4810   \n",
       "2       2018-09-01 00:00:20.6490  2018-09-01 00:55:58.5470   \n",
       "3       2018-09-01 00:00:21.7460  2018-09-01 00:07:38.5830   \n",
       "4       2018-09-01 00:00:27.3150  2018-09-01 02:21:25.3080   \n",
       "...                          ...                       ...   \n",
       "299995  2018-09-05 19:08:27.8460  2018-09-05 19:15:51.4940   \n",
       "299996  2018-09-05 19:08:28.3700  2018-09-05 19:20:01.5080   \n",
       "299997  2018-09-05 19:08:27.5090  2018-09-05 19:13:40.5060   \n",
       "299998  2018-09-05 19:08:29.2300  2018-09-05 20:04:29.3220   \n",
       "299999  2018-09-05 19:08:29.7110  2018-09-05 19:12:14.7620   \n",
       "\n",
       "                     start station name  start station latitude  \\\n",
       "0          MacDougal St & Washington Sq               40.732264   \n",
       "1       Cadman Plaza West & Montague St               40.693830   \n",
       "2                       1 Ave & E 62 St               40.761227   \n",
       "3               St James Pl & Oliver St               40.713079   \n",
       "4                       W 13 St & 6 Ave               40.736494   \n",
       "...                                 ...                     ...   \n",
       "299995                  W 26 St & 8 Ave               40.747348   \n",
       "299996                Kent Ave & N 7 St               40.720368   \n",
       "299997        Gansevoort St & Hudson St               40.739448   \n",
       "299998                  W 11 St & 6 Ave               40.735324   \n",
       "299999                 1 Ave & E 110 St               40.792327   \n",
       "\n",
       "        start station longitude            end station name  \\\n",
       "0                    -73.998522    Clinton Ave & Myrtle Ave   \n",
       "1                    -73.990539  Schermerhorn St & Court St   \n",
       "2                    -73.960940             Smith St & 3 St   \n",
       "3                    -73.998512         Park Pl & Church St   \n",
       "4                    -73.997044            W 4 St & 7 Ave S   \n",
       "...                         ...                         ...   \n",
       "299995               -73.997236            W 37 St & 10 Ave   \n",
       "299996               -73.961651   Graham Ave & Conselyea St   \n",
       "299997               -74.005070             W 18 St & 6 Ave   \n",
       "299998               -73.998004          Broadway & W 60 St   \n",
       "299999               -73.938300    Lexington Ave & E 111 St   \n",
       "\n",
       "        end station latitude  end station longitude  bikeid    usertype  \\\n",
       "0                  40.693261             -73.968896   25577  Subscriber   \n",
       "1                  40.691029             -73.991834   34377  Subscriber   \n",
       "2                  40.678724             -73.995991   30496  Subscriber   \n",
       "3                  40.713342             -74.009355   28866  Subscriber   \n",
       "4                  40.734011             -74.002939   20943    Customer   \n",
       "...                      ...                    ...     ...         ...   \n",
       "299995             40.756604             -73.997901   19531  Subscriber   \n",
       "299996             40.715143             -73.944507   34020  Subscriber   \n",
       "299997             40.739713             -73.994564   33220  Subscriber   \n",
       "299998             40.769155             -73.981918   34744  Subscriber   \n",
       "299999             40.795412             -73.944123   18292  Subscriber   \n",
       "\n",
       "        birth year  gender  \n",
       "0               38       1  \n",
       "1               49       0  \n",
       "2               43       1  \n",
       "3               34       2  \n",
       "4               24       1  \n",
       "...            ...     ...  \n",
       "299995          28       2  \n",
       "299996          36       1  \n",
       "299997          27       1  \n",
       "299998          43       0  \n",
       "299999          52       1  \n",
       "\n",
       "[300000 rows x 12 columns]"
      ]
     },
     "metadata": {},
     "output_type": "display_data"
    }
   ],
   "source": [
    "#bike_df = bike_df.drop(['start station id', 'end station id'], axis=1)\n",
    "display(bike_df)"
   ]
  },
  {
   "cell_type": "code",
   "execution_count": 24,
   "metadata": {},
   "outputs": [],
   "source": [
    "bike_df['birth year'] = 2018 - bike_df['birth year']"
   ]
  },
  {
   "cell_type": "code",
   "execution_count": 28,
   "metadata": {},
   "outputs": [],
   "source": [
    "bike_df.rename(columns={'birth year':'age'},inplace=True)"
   ]
  },
  {
   "cell_type": "code",
   "execution_count": 32,
   "metadata": {},
   "outputs": [
    {
     "name": "stdout",
     "output_type": "stream",
     "text": [
      "<class 'pandas.core.series.Series'>\n",
      "Int64Index: 64 entries, 734 to 296169\n",
      "Series name: age\n",
      "Non-Null Count  Dtype\n",
      "--------------  -----\n",
      "64 non-null     int64\n",
      "dtypes: int64(1)\n",
      "memory usage: 1.0 KB\n"
     ]
    }
   ],
   "source": [
    "bike_df[bike_df['age'] > 120]['age'].info()"
   ]
  },
  {
   "cell_type": "code",
   "execution_count": 38,
   "metadata": {},
   "outputs": [],
   "source": [
    "#bike_df['starttime'] = pd.to_datetime(bike_df['starttime'], dayfirst=True)\n",
    "#bike_df['stoptime'] = pd.to_datetime(bike_df['stoptime'], dayfirst=True)\n",
    "\n",
    "bike_df['trip duration'] = bike_df['stoptime'] - bike_df['starttime']"
   ]
  },
  {
   "cell_type": "code",
   "execution_count": 39,
   "metadata": {},
   "outputs": [
    {
     "data": {
      "text/plain": [
       "Timedelta('0 days 00:07:16.837000')"
      ]
     },
     "execution_count": 39,
     "metadata": {},
     "output_type": "execute_result"
    }
   ],
   "source": [
    "bike_df['trip duration'].loc[3]"
   ]
  },
  {
   "cell_type": "code",
   "execution_count": 40,
   "metadata": {},
   "outputs": [],
   "source": [
    "bike_df['weekend'] = bike_df['starttime'].dt.day_of_week"
   ]
  },
  {
   "cell_type": "code",
   "execution_count": 41,
   "metadata": {},
   "outputs": [],
   "source": [
    "bike_df['weekend'] = bike_df['weekend'].apply(lambda x: 1 if x >= 5 else 0)"
   ]
  },
  {
   "cell_type": "code",
   "execution_count": 42,
   "metadata": {},
   "outputs": [
    {
     "data": {
      "text/plain": [
       "0    184865\n",
       "1    115135\n",
       "Name: weekend, dtype: int64"
      ]
     },
     "execution_count": 42,
     "metadata": {},
     "output_type": "execute_result"
    }
   ],
   "source": [
    "bike_df['weekend'].value_counts()"
   ]
  },
  {
   "cell_type": "code",
   "execution_count": null,
   "metadata": {},
   "outputs": [],
   "source": [
    "bike_df.info()"
   ]
  },
  {
   "cell_type": "code",
   "execution_count": 55,
   "metadata": {},
   "outputs": [],
   "source": [
    "def get_part_of_day(time):\n",
    "    if (time.hour <= 6):\n",
    "        return 'night'\n",
    "    elif (time.hour > 6) & (time.hour <= 12):\n",
    "        return 'morning'\n",
    "    elif (time.hour > 12) & (time.hour <= 18):\n",
    "        return 'day'\n",
    "    elif (time.hour > 12) & (time.hour <= 23):\n",
    "        return 'evening'\n",
    "\n",
    "bike_df['time_of_day'] = bike_df['starttime'].apply(get_part_of_day)"
   ]
  },
  {
   "attachments": {},
   "cell_type": "markdown",
   "metadata": {},
   "source": [
    ".count() и .shape[0] тут работают одинаково"
   ]
  },
  {
   "cell_type": "code",
   "execution_count": 58,
   "metadata": {},
   "outputs": [
    {
     "data": {
      "text/plain": [
       "9.480411004308916"
      ]
     },
     "execution_count": 58,
     "metadata": {},
     "output_type": "execute_result"
    }
   ],
   "source": [
    "a = bike_df[bike_df['time_of_day'] == 'day']['time_of_day'].count()\n",
    "b = bike_df[bike_df['time_of_day'] == 'night']['time_of_day'].shape[0]\n",
    "\n",
    "a/b"
   ]
  },
  {
   "attachments": {},
   "cell_type": "markdown",
   "metadata": {},
   "source": [
    "Эталонное!"
   ]
  },
  {
   "cell_type": "code",
   "execution_count": null,
   "metadata": {},
   "outputs": [],
   "source": [
    "def get_time_of_day(time):\n",
    "    if 0 <= time <= 6:\n",
    "        return 'night'\n",
    "    elif 6 < time <= 12:\n",
    "        return 'morning'\n",
    "    elif 12 < time <= 18:\n",
    "        return 'day'\n",
    "    elif 18 < time <= 23:\n",
    "        return 'evening'\n",
    "    else:\n",
    "        return 'else'\n",
    "bike_df['time_of_day'] = bike_df['starttime'].dt.hour.apply(get_time_of_day)\n",
    "a = bike_df[bike_df['time_of_day'] == 'day'].shape[0]\n",
    "b = bike_df[bike_df['time_of_day'] == 'night'].shape[0]\n",
    "print(round(a / b))"
   ]
  }
 ],
 "metadata": {
  "kernelspec": {
   "display_name": "Python 3",
   "language": "python",
   "name": "python3"
  },
  "language_info": {
   "codemirror_mode": {
    "name": "ipython",
    "version": 3
   },
   "file_extension": ".py",
   "mimetype": "text/x-python",
   "name": "python",
   "nbconvert_exporter": "python",
   "pygments_lexer": "ipython3",
   "version": "3.10.9"
  },
  "orig_nbformat": 4,
  "vscode": {
   "interpreter": {
    "hash": "0a1711d0bf5b863f53104549f70b879233b46cc07d7206b040e92c4d761b405c"
   }
  }
 },
 "nbformat": 4,
 "nbformat_minor": 2
}
