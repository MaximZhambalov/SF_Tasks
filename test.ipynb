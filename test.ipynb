{
 "cells": [
  {
   "cell_type": "code",
   "execution_count": 3,
   "metadata": {},
   "outputs": [],
   "source": [
    "def matrix_sum(matrix1, matrix2):\n",
    "    if (len(matrix1) != len(matrix2)) or (len(matrix1[0]) != len (matrix2[0])):\n",
    "        print('Error! Matrices dimensions are different!')\n",
    "        return None\n",
    "    m_lines = len(matrix1)\n",
    "    m_rows = len(matrix1[0])\n",
    "    sum_matrix = []\n",
    "    for i in range(m_lines):\n",
    "        line_tmp = []\n",
    "        for j in range(m_rows):\n",
    "            line_tmp.append(matrix1[i][j] + matrix2[i][j])\n",
    "        sum_matrix.append(line_tmp)\n",
    "    return sum_matrix"
   ]
  },
  {
   "cell_type": "code",
   "execution_count": 5,
   "metadata": {},
   "outputs": [
    {
     "name": "stdout",
     "output_type": "stream",
     "text": [
      "Error! Matrices dimensions are different!\n",
      "None\n"
     ]
    }
   ],
   "source": [
    "print(matrix_sum([\n",
    "          [1, 5, 4],\n",
    "          [4, 2, -2],\n",
    "          [7, 65, 88]\n",
    "], [\n",
    "          [1, 5, 4, 77],\n",
    "          [4, 2, -2],\n",
    "          [4, 2, -2]\n",
    "          ]))"
   ]
  }
 ],
 "metadata": {
  "kernelspec": {
   "display_name": "Python 3",
   "language": "python",
   "name": "python3"
  },
  "language_info": {
   "codemirror_mode": {
    "name": "ipython",
    "version": 3
   },
   "file_extension": ".py",
   "mimetype": "text/x-python",
   "name": "python",
   "nbconvert_exporter": "python",
   "pygments_lexer": "ipython3",
   "version": "3.10.9"
  },
  "orig_nbformat": 4,
  "vscode": {
   "interpreter": {
    "hash": "0a1711d0bf5b863f53104549f70b879233b46cc07d7206b040e92c4d761b405c"
   }
  }
 },
 "nbformat": 4,
 "nbformat_minor": 2
}
