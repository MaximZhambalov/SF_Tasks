{
 "cells": [
  {
   "attachments": {},
   "cell_type": "markdown",
   "metadata": {},
   "source": [
    "***---------------------------------------------PYTHON-5.2. BONUS------------------------------------------------***"
   ]
  },
  {
   "attachments": {},
   "cell_type": "markdown",
   "metadata": {},
   "source": [
    "**ИТЕРАТОРЫ**"
   ]
  },
  {
   "attachments": {},
   "cell_type": "markdown",
   "metadata": {},
   "source": [
    "В переводе с английского iterator означает «перечислитель». В Python это такая структура данных, которая позволяет выдавать объекты по одному, когда её об этом просит пользователь.\n",
    "\n",
    "Объекты, из которых можно извлечь итератор, называются итерируемыми объектами. Примеры итерируемых объектов — список, кортеж, словарь, множество.\n",
    "\n",
    "Изучение принципа работы итераторов — наш первый шаг к пониманию работы цикла for с различными структурами данных, генераторов, а также работы специальных функций в Python, созданных на их основе."
   ]
  },
  {
   "attachments": {},
   "cell_type": "markdown",
   "metadata": {},
   "source": [
    "Все встроенные структуры данных в Python, которые поддерживают проход по своим элементам в цикле for (списки, словари, множества, кортежи, строки), содержат в себе итераторы и являются итерируемыми объектами. Чтобы получить итератор из структуры, используется функция **iter()**."
   ]
  },
  {
   "attachments": {},
   "cell_type": "markdown",
   "metadata": {},
   "source": [
    "- Итераторы не поддерживают индексацию.\n",
    "- К любому итератору можно применить функцию **next()**, которая возвращает следующий элемент из итератора. Каждый новый вызов **next()** уменьшает количество элементов в итераторе на 1, пока элементы не закончатся полностью, после чего итератор станет бесполезен."
   ]
  },
  {
   "attachments": {},
   "cell_type": "markdown",
   "metadata": {},
   "source": [
    "- Итератор — это объект-перечислитель, который выдаёт следующий элемент из своих значений с помощью **next()** либо выбрасывает исключение **StopIteration**, когда элементы заканчиваются.\n",
    "- Итерируемый объект — это объект, который может предоставить нам итератор. По его содержимому можно пройтись в цикле **for**. Встроенные итерируемые объекты — список, кортеж, строка, словарь, множество\n",
    "- Все встроенные итерируемые объекты в Python содержат внутри себя итератор. Чтобы получить его, необходимо использовать функцию **iter()**.\n",
    "- Когда мы создаём цикл **for** по итерируемому объекту (например, списку), интерпретатор на самом деле неявно обращается к его итератору через **iter()** и использует функцию **next()**, чтобы получить следующий элемент. Когда цикл доходит до конца объекта, for отлавливает исключение **StopIteration** и прекращает свою работу. Вот она — магия Python, которая скрыта от наших глаз. Именно так «под капотом» работает цикл for, и теперь вы обладаете этим «тайным знанием».\n",
    "- В Python можно создавать свои итераторы и прописывать в них правила выдачи элементов. Например, можно прописать, что выдавать элементы можно только по субботам, или изображения для обучения модели выдаются не по одному, а по 10 штук. Для этого создаются специальные классы с определёнными возможностями (о классах мы поговорим в модуле по ООП). Альтернативным вариантом такого подхода являются генераторы."
   ]
  },
  {
   "attachments": {},
   "cell_type": "markdown",
   "metadata": {},
   "source": [
    "**ГЕНЕРАТОРЫ**"
   ]
  },
  {
   "attachments": {},
   "cell_type": "markdown",
   "metadata": {},
   "source": [
    "Генераторы — это объекты, которые при создании не вычисляют своё содержимое, но генерируют его в процессе работы. Они выдают своё содержимое по определённым правилам только по запросу разработчика."
   ]
  },
  {
   "attachments": {},
   "cell_type": "markdown",
   "metadata": {},
   "source": [
    "Генератор объявляется как обычная функция. В теле функции описывается то, как будут генерироваться выдаваемые генератором объекты. Синтаксис имеет одно очень важное отличие: вместо ключевого слова return в генераторе используется **yield**. "
   ]
  },
  {
   "attachments": {},
   "cell_type": "markdown",
   "metadata": {},
   "source": [
    "Генератор — это «ленивый» итератор. Отличие от обычного итератора состоит в том, что обычный итератор хранит все свои элементы в памяти, а генератор — нет. При создании генератор не выполняет код внутри себя (внутри функции). Он хранит в памяти только последний вычисленный элемент и правило перехода к следующему."
   ]
  },
  {
   "attachments": {},
   "cell_type": "markdown",
   "metadata": {},
   "source": [
    "*Если проводить аналогию, то итераторы — это магазин готовой еды, где хранятся все блюда из меню и продавец просто выдаёт их вам с витрины. Генераторы — это рестораны, которые готовят блюдо только по заказу. Как только блюдо было приготовлено, оно выдаётся клиенту, и повар ждёт следующего заказа.*"
   ]
  },
  {
   "attachments": {},
   "cell_type": "markdown",
   "metadata": {},
   "source": [
    "**map(), filter(), zip(), reduce()**"
   ]
  },
  {
   "cell_type": "code",
   "execution_count": 5,
   "metadata": {},
   "outputs": [
    {
     "name": "stdout",
     "output_type": "stream",
     "text": [
      "[4, 5, 4, 7]\n"
     ]
    }
   ],
   "source": [
    "# Функция map() позволяет преобразовать каждый элемент итерируемого объекта по заданной функции.\n",
    "# В данном случае map() применяет лямбда-функцию к списку с именами и возвращает список длин\n",
    "\n",
    "names = ['John', 'Peter', 'Bill', 'Michael']\n",
    "\n",
    "lens = list(map(lambda x: len(x), names))\n",
    "print(lens)"
   ]
  },
  {
   "attachments": {},
   "cell_type": "markdown",
   "metadata": {},
   "source": [
    "Функция map() возвращает объект типа map."
   ]
  },
  {
   "cell_type": "code",
   "execution_count": null,
   "metadata": {},
   "outputs": [],
   "source": [
    "# Функции filter() позволяет отфильтровать переданный ей итерируемый объект и оставить в нём только те элементы, которые удовлетворяют условию.\n",
    "lens_list = [4, 6, 5, 9, 8, 3] \n",
    "# Применяем lambda-функцию к каждому элементу списка\n",
    "even = filter(lambda x: x % 2 == 0, lens_list)\n",
    "print(list(even))\n",
    "# Будет напечатано:\n",
    "# [4, 6, 8]"
   ]
  },
  {
   "attachments": {},
   "cell_type": "markdown",
   "metadata": {},
   "source": [
    "Аргументы функции filter():\n",
    "- Функция, которая должна возвращать True, если условие выполнено, иначе возвращается False.\n",
    "- Итератор, с которым производится действие."
   ]
  },
  {
   "attachments": {},
   "cell_type": "markdown",
   "metadata": {},
   "source": [
    "Функция filter() возвращает объект типа filter."
   ]
  },
  {
   "cell_type": "code",
   "execution_count": 9,
   "metadata": {},
   "outputs": [
    {
     "data": {
      "text/plain": [
       "['social card']"
      ]
     },
     "execution_count": 9,
     "metadata": {},
     "output_type": "execute_result"
    }
   ],
   "source": [
    "# Задание 6.2\n",
    "\n",
    "family_list = [\n",
    "    'certificate of a large family',\n",
    "    'social card',\n",
    "    'maternity capital',\n",
    "    'parking permit',\n",
    "    'tax benefit',\n",
    "    'reimbursement of expenses',\n",
    "    \"compensation for the purchase of children's goods\"\n",
    "    ]\n",
    "\n",
    "def family(*args):\n",
    "    return list(filter(lambda x: True if x in family_list else False, args))\n",
    "\n",
    "family('damned thing', 'stupid task', 'social card')"
   ]
  },
  {
   "attachments": {},
   "cell_type": "markdown",
   "metadata": {},
   "source": [
    "Иногда возникает задача выполнить сразу несколько действий с объектами из итератора. Например, вы хотите масштабировать данные об оценках вашей видеоигры пользователями, а затем отфильтровать оценки. Такие преобразования называются конвейерными."
   ]
  },
  {
   "cell_type": "code",
   "execution_count": 10,
   "metadata": {},
   "outputs": [
    {
     "name": "stdout",
     "output_type": "stream",
     "text": [
      "[('Nikita', 1), ('Simon', 0), ('Margarita', 3), ('Vasilisa', 2)]\n"
     ]
    }
   ],
   "source": [
    "# Допустим, вначале мы хотим отобрать только те имена, которые состоят из пяти и более букв, а затем посчитать, сколько раз в таких словах встречается буква А. \n",
    "\n",
    "names = ['Ivan', 'Nikita', 'Simon', 'Margarita', 'Vasilisa', 'Kim']\n",
    "\n",
    "# Отбираем имена из пяти и более букв\n",
    "long_names = filter(lambda x: len(x) >= 5, names)\n",
    "# Все отобранные имена переводим в верхний регистр и считаем число букв А в них\n",
    "# Результат сохраняем в виде кортежа (имя, число букв \"A\")\n",
    "count_a = map(lambda x: (x, x.upper().count('A')), long_names)\n",
    "# Переводим объект map в list и печатаем его\n",
    "print(list(count_a))"
   ]
  },
  {
   "cell_type": "code",
   "execution_count": 45,
   "metadata": {},
   "outputs": [
    {
     "data": {
      "text/plain": [
       "[('Smith J.', 13, 2, 2003), ('Petrova M.', 13, 3, 2003)]"
      ]
     },
     "metadata": {},
     "output_type": "display_data"
    }
   ],
   "source": [
    "# Задание 6.3\n",
    "\n",
    "reg = [('Ivanov', 'Sergej', 24, 9, 1995),\n",
    "      ('Smith', 'John', 13, 2, 2003),\n",
    "      ('Petrova', 'Maria', 13, 3, 2003)]\n",
    "\n",
    "def tuple_adjust(args):\n",
    "    return (args[0]+' '+args[1][0]+'.', args[2], args[3], args[4])\n",
    "\n",
    "need_reg = filter(lambda x: True if x[4]>2000 else False, reg)\n",
    "final_reg = map(tuple_adjust, need_reg)\n",
    "\n",
    "display(list(final_reg))\n"
   ]
  },
  {
   "cell_type": "code",
   "execution_count": 48,
   "metadata": {},
   "outputs": [
    {
     "name": "stdout",
     "output_type": "stream",
     "text": [
      "Ivanov Sergej\n",
      "Smirnov Ivan\n",
      "Kuznetsova Maria\n",
      "Nikitina Elena\n"
     ]
    }
   ],
   "source": [
    "surnames = ['Ivanov', 'Smirnov', 'Kuznetsova', 'Nikitina']\n",
    "names = ['Sergej', 'Ivan', 'Maria', 'Elena']\n",
    "# Создаём цикл по элементам итератора zip — кортежам из фамилий и имён\n",
    "for surname, name in zip(surnames, names):\n",
    "    print(surname, name)"
   ]
  },
  {
   "attachments": {},
   "cell_type": "markdown",
   "metadata": {},
   "source": [
    "В функцию **zip()** подаются два списка: *surnames* и *names*. В результате **zip()** создаёт из двух этих объектов специальный итератор. \n",
    "\n",
    "При каждом новом обращении к полученному zip-итератору с помощью **next()** он выдаёт следующую пару элементов (кортеж) из каждого списка. Пары образуются последовательно: например, первый элемент из списка *surnames* образует пару с первым элементом из списка *names* и т. д."
   ]
  },
  {
   "attachments": {},
   "cell_type": "markdown",
   "metadata": {},
   "source": [
    "Важное замечание: **zip** перестаёт выдавать элементы тогда, когда заканчиваются элементы в самом коротком итераторе."
   ]
  },
  {
   "cell_type": "code",
   "execution_count": 55,
   "metadata": {},
   "outputs": [
    {
     "name": "stdout",
     "output_type": "stream",
     "text": [
      "Smith J. in group 1\n",
      "Petrova M. in group 2\n",
      "Lubimov M. in group 3\n",
      "Holov J. in group 1\n"
     ]
    }
   ],
   "source": [
    "# Задание 6.4\n",
    "\n",
    "users = ['Smith J.', 'Petrova M.', 'Lubimov M.', 'Holov J.']\n",
    "\n",
    "def group_gen(n=3):\n",
    "    while True:\n",
    "        for i in range(1, n+1):\n",
    "            yield i\n",
    "\n",
    "def print_groups(users):\n",
    "    for name, group in zip(users, group_gen()):\n",
    "        print(f'{name}'+' in group '+f'{group}')\n",
    "\n",
    "print_groups(users)"
   ]
  },
  {
   "attachments": {},
   "cell_type": "markdown",
   "metadata": {},
   "source": [
    "**reduce()** выполняет следующие действия:\n",
    "1. Берёт первый и второй элементы из итератора, применяет к ним переданную функцию.\n",
    "2. Запоминает значение, которое получено в шаге 1, и подставляет его в качестве первого аргумента в функцию. В качестве второго аргумента reduce**()** получает следующий элемент из генератора. \n",
    "3. Действие 2 повторяется до тех пор, пока в итерируемом объекте есть элементы.\n",
    "4. Функция **reduce()** возвращает последнее значение, которое вернула функция."
   ]
  },
  {
   "attachments": {},
   "cell_type": "markdown",
   "metadata": {},
   "source": [
    "**ДЕКОРАТОРЫ**"
   ]
  },
  {
   "attachments": {},
   "cell_type": "markdown",
   "metadata": {},
   "source": [
    "Декораторы — это функции, которые изменяют поведение основной функции таким образом, что она продолжает принимать и возвращать те же значения, однако её функционал расширяется."
   ]
  },
  {
   "cell_type": "code",
   "execution_count": 56,
   "metadata": {},
   "outputs": [],
   "source": [
    "# Декорирующая функция принимает в качестве\n",
    "# аргумента название функции\n",
    "def simple_decorator(func):\n",
    " \n",
    "    # Функция, в которой происходит модификация поведения\n",
    "    # функции func. Она будет принимать те же аргументы,\n",
    "    # что и функция func, которую декорирует decorated_function.\n",
    "    # Чтобы принять все возможные аргументы, используем сочетание\n",
    "    # *args и *kwargs.\n",
    "    def decorated_function(*args, **kwargs):\n",
    "        # Печатаем принятые аргументы\n",
    "        print(\"Input:\")\n",
    "        print(\"Positional:\", args)\n",
    "        print(\"Named:\", kwargs)\n",
    "        # С помощью конструкции *args/**kwargs\n",
    "        # считаем результат выполнения функции func\n",
    "        result = func(*args, **kwargs)\n",
    "        # Печатаем результат выполнения функции\n",
    "        print(\"Result:\", result)\n",
    "        # Не забываем вернуть результат, чтобы\n",
    "        # не повлиять на поведение декорируемой функции!\n",
    "        return result\n",
    "    # Внешняя функция возвращает функцию\n",
    "    # decorated_function\n",
    "    return decorated_function"
   ]
  },
  {
   "attachments": {},
   "cell_type": "markdown",
   "metadata": {},
   "source": [
    "Обратите внимание на общую структуру декоратора: внешняя функция обязательно должна принимать на вход ту функцию, которую она будет изменять (декорировать), а возвращать — декорированную функцию, в которую и будут подставлять аргументы функция.\n",
    "\n",
    "Чтобы не повлиять декоратором на входные и выходные данные, используется конструкция *args/**kwargs для получения и передачи аргументов. Также результат обязательно сохраняется в переменную и возвращается по окончании работы декорированной функции. "
   ]
  },
  {
   "cell_type": "code",
   "execution_count": 57,
   "metadata": {},
   "outputs": [
    {
     "name": "stdout",
     "output_type": "stream",
     "text": [
      "<class 'function'>\n",
      "Input:\n",
      "Positional: (625, 4)\n",
      "Named: {}\n",
      "Result: 5.0\n",
      "5.0\n"
     ]
    }
   ],
   "source": [
    "def root(value, n=2):\n",
    "    result = value ** (1/n)\n",
    "    return result\n",
    "# Декорируем функцию root с помощью функции simple_decorator\n",
    "decorated_root = simple_decorator(root)\n",
    "# В decorated_root теперь действительно хранится функция\n",
    "print(type(decorated_root))\n",
    "# Будет напечатано:\n",
    "# <class 'function'>\n",
    "print(decorated_root(625, 4))"
   ]
  },
  {
   "attachments": {},
   "cell_type": "markdown",
   "metadata": {},
   "source": [
    "В Python декораторы используются довольно часто. Они позволяют значительно упростить жизнь разработчику. Чтобы применять декораторы было удобнее, используется запись названия декоратора через символ @ прямо над сигнатурой основной функции:"
   ]
  },
  {
   "cell_type": "code",
   "execution_count": 62,
   "metadata": {},
   "outputs": [
    {
     "data": {
      "text/plain": [
       "2.0"
      ]
     },
     "execution_count": 62,
     "metadata": {},
     "output_type": "execute_result"
    }
   ],
   "source": [
    "\n",
    "@simple_decorator\n",
    "def root(value, n=2):\n",
    "    result = value ** (1/n)\n",
    "    return result\n",
    "root(1024,10)"
   ]
  },
  {
   "attachments": {},
   "cell_type": "markdown",
   "metadata": {},
   "source": [
    "Такая запись говорит интерпретатору о том, что необходимо применить функцию simple_decorator  к функции root. При этом удобным оказывается то, что название самой декорированной функции от применения декоратора не меняется."
   ]
  },
  {
   "cell_type": "code",
   "execution_count": 68,
   "metadata": {},
   "outputs": [],
   "source": [
    "from time import time\n",
    " \n",
    "def time_decorator(func):\n",
    "    def decorated_func(*args, **kwargs):\n",
    "        # Получаем время на момент начала вычисления\n",
    "        start = time()\n",
    "        result = func(*args, **kwargs)\n",
    "        # Получаем время на момент окончания вычисления\n",
    "        end = time()\n",
    "        # Считаем длительность вычисления\n",
    "        delta = end - start\n",
    "        # Печатаем время работы функции\n",
    "        print(\"Runtime:\", delta)\n",
    "        return result\n",
    "    return decorated_func"
   ]
  },
  {
   "cell_type": "code",
   "execution_count": 70,
   "metadata": {},
   "outputs": [
    {
     "name": "stdout",
     "output_type": "stream",
     "text": [
      "Runtime: 0.0\n",
      "19.0\n",
      "Runtime: 0.0\n",
      "19.0\n",
      "Runtime: 0.0\n",
      "15.0\n"
     ]
    }
   ],
   "source": [
    "@time_decorator\n",
    "def root(value, n=2):\n",
    "    result = value ** (1/n)\n",
    "    return result\n",
    "\n",
    "print(root(361))\n",
    "print(root(361))\n",
    "print(root(225))"
   ]
  },
  {
   "attachments": {},
   "cell_type": "markdown",
   "metadata": {},
   "source": [
    "Как видите, время вычисления каждый раз оказывалось разным, причём оно могло отличаться в несколько раз. Чтобы оценить среднее время вычисления, необходимо запустить функцию большое число раз и посчитать среднее время одного запуска — тогда стоит ожидать более качественные результаты. \n",
    "\n",
    "Как передать декоратору, сколько раз необходимо запустить функцию перед усреднением?\n",
    "\n",
    "К сожалению, сделать это не совсем просто. Для этого потребуется написать декоратор для декоратора. Вот его полный код:"
   ]
  },
  {
   "cell_type": "code",
   "execution_count": 71,
   "metadata": {},
   "outputs": [],
   "source": [
    "from time import time\n",
    "# Декоратор, который возвращает декоратор. Он принимает число\n",
    "# запусков декорируемой функции для усреднения времени\n",
    "def time_runs(n_runs):\n",
    "    # Декоратор, который уже будет возвращать непосредственно\n",
    "    # декорированную функцию\n",
    "    def time_decorator(func):\n",
    "        # Функция, в которой непосредственно\n",
    "        # происходит запуск основной функции\n",
    "        def decorated_func(*args, **kwargs):\n",
    "            start = time()\n",
    "            # Запускаем основную функцию столько раз,\n",
    "            # сколько передано в n_runs\n",
    "            for i in range(n_runs):\n",
    "                result = func(*args, **kwargs)\n",
    "            end = time()\n",
    "            # Считаем разницу во времени\n",
    "            delta = end - start\n",
    "            # Делим разницу на число запусков, чтобы получить\n",
    "            # среднее время одного запуска\n",
    "            mean_time = delta / n_runs\n",
    "            # Печатаем полученное среднее время\n",
    "            print(\"Mean runtime:\", mean_time)\n",
    "            # Не забываем вернуть сам результат\n",
    "            return result\n",
    "        # Возвращаем функцию, в которой происходит запуск основной функции\n",
    "        return decorated_func\n",
    "    # Возвращаем декоратор, который будет применяться к функции\n",
    "    return time_decorator"
   ]
  },
  {
   "cell_type": "code",
   "execution_count": 72,
   "metadata": {},
   "outputs": [
    {
     "name": "stdout",
     "output_type": "stream",
     "text": [
      "Mean runtime: 2.7607321739196776e-07\n",
      "9.0\n",
      "Mean runtime: 2.880544662475586e-07\n",
      "9.0\n",
      "Mean runtime: 2.9407453536987306e-07\n",
      "9.0\n",
      "Mean runtime: 2.830636501312256e-07\n",
      "9.0\n"
     ]
    }
   ],
   "source": [
    "# Передадим в декоратор time_runs число запусков\n",
    "# для усреднения\n",
    "@time_runs(1000000)\n",
    "def root(value, n=2):\n",
    "    result = value ** (1/n)\n",
    "    return result\n",
    " \n",
    "print(root(81))\n",
    "print(root(81))\n",
    "print(root(81))\n",
    "print(root(81))\n",
    "# Mean runtime: 3.16425085067749e-07\n",
    "# 9.0\n",
    "# Mean runtime: 3.04415225982666e-07\n",
    "# 9.0\n",
    "# Mean runtime: 2.961890697479248e-07\n",
    "# 9.0\n",
    "# Mean runtime: 3.0206298828125e-07\n",
    "# 9.0"
   ]
  },
  {
   "cell_type": "code",
   "execution_count": 79,
   "metadata": {},
   "outputs": [
    {
     "name": "stdout",
     "output_type": "stream",
     "text": [
      "Master: Function root started\n",
      "Master: Function root finished\n"
     ]
    },
    {
     "data": {
      "text/plain": [
       "4.641588833612778"
      ]
     },
     "execution_count": 79,
     "metadata": {},
     "output_type": "execute_result"
    }
   ],
   "source": [
    "# Задание 7.3\n",
    "\n",
    "def logger(logger_name=''):\n",
    "    def decorator(func):\n",
    "        def decor_func(*args, **kwargs):\n",
    "            print(logger_name + ': Function ' + func.__name__ + ' started')\n",
    "            result = func(*args, **kwargs)\n",
    "            print(logger_name + ': Function ' + func.__name__ + ' finished')\n",
    "            return result\n",
    "        return decor_func\n",
    "    return decorator\n",
    "\n",
    "@logger('Master')\n",
    "def root(num, root=2):\n",
    "    return num ** (1/root)\n",
    "\n",
    "root(100,3)\n"
   ]
  }
 ],
 "metadata": {
  "kernelspec": {
   "display_name": "Python 3",
   "language": "python",
   "name": "python3"
  },
  "language_info": {
   "codemirror_mode": {
    "name": "ipython",
    "version": 3
   },
   "file_extension": ".py",
   "mimetype": "text/x-python",
   "name": "python",
   "nbconvert_exporter": "python",
   "pygments_lexer": "ipython3",
   "version": "3.10.9"
  },
  "orig_nbformat": 4,
  "vscode": {
   "interpreter": {
    "hash": "0a1711d0bf5b863f53104549f70b879233b46cc07d7206b040e92c4d761b405c"
   }
  }
 },
 "nbformat": 4,
 "nbformat_minor": 2
}
