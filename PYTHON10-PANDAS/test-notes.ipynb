{
 "cells": [
  {
   "cell_type": "code",
   "execution_count": 1,
   "metadata": {},
   "outputs": [],
   "source": [
    "import pandas as pd"
   ]
  },
  {
   "cell_type": "code",
   "execution_count": 2,
   "metadata": {},
   "outputs": [
    {
     "data": {
      "text/plain": [
       "UK       Англия\n",
       "CA       Канада\n",
       "US          США\n",
       "RU       Россия\n",
       "UA      Украина\n",
       "BY     Беларусь\n",
       "KZ    Казахстан\n",
       "Name: countries, dtype: object"
      ]
     },
     "metadata": {},
     "output_type": "display_data"
    }
   ],
   "source": [
    "countries = pd.Series(\n",
    "    data = ['Англия', 'Канада', 'США', 'Россия', 'Украина', 'Беларусь', 'Казахстан'],\n",
    "    index = ['UK', 'CA', 'US', 'RU', 'UA', 'BY', 'KZ'],\n",
    "    name = 'countries'\n",
    ")\n",
    "display(countries)"
   ]
  },
  {
   "cell_type": "code",
   "execution_count": 8,
   "metadata": {},
   "outputs": [
    {
     "name": "stdout",
     "output_type": "stream",
     "text": [
      "US       США\n",
      "CA    Канада\n",
      "Name: countries, dtype: object\n"
     ]
    }
   ],
   "source": [
    "a = [\"US\", \"CA\"]\n",
    "\n",
    "b = countries.loc[a]\n",
    "\n",
    "print(b)"
   ]
  }
 ],
 "metadata": {
  "kernelspec": {
   "display_name": "Python 3",
   "language": "python",
   "name": "python3"
  },
  "language_info": {
   "codemirror_mode": {
    "name": "ipython",
    "version": 3
   },
   "file_extension": ".py",
   "mimetype": "text/x-python",
   "name": "python",
   "nbconvert_exporter": "python",
   "pygments_lexer": "ipython3",
   "version": "3.10.9"
  },
  "orig_nbformat": 4,
  "vscode": {
   "interpreter": {
    "hash": "0a1711d0bf5b863f53104549f70b879233b46cc07d7206b040e92c4d761b405c"
   }
  }
 },
 "nbformat": 4,
 "nbformat_minor": 2
}
