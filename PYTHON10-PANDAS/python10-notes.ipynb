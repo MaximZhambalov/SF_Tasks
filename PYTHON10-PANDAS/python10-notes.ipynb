{
 "cells": [
  {
   "cell_type": "code",
   "execution_count": 2,
   "metadata": {},
   "outputs": [],
   "source": [
    "import pandas as pd"
   ]
  },
  {
   "cell_type": "code",
   "execution_count": 2,
   "metadata": {},
   "outputs": [
    {
     "data": {
      "text/plain": [
       "UK       Англия\n",
       "CA       Канада\n",
       "US          США\n",
       "RU       Россия\n",
       "UA      Украина\n",
       "BY     Беларусь\n",
       "KZ    Казахстан\n",
       "Name: countries, dtype: object"
      ]
     },
     "metadata": {},
     "output_type": "display_data"
    }
   ],
   "source": [
    "countries = pd.Series(\n",
    "    data = ['Англия', 'Канада', 'США', 'Россия', 'Украина', 'Беларусь', 'Казахстан'],\n",
    "    index = ['UK', 'CA', 'US', 'RU', 'UA', 'BY', 'KZ'],\n",
    "    name = 'countries'\n",
    ")\n",
    "display(countries)"
   ]
  },
  {
   "cell_type": "code",
   "execution_count": 8,
   "metadata": {},
   "outputs": [
    {
     "name": "stdout",
     "output_type": "stream",
     "text": [
      "US       США\n",
      "CA    Канада\n",
      "Name: countries, dtype: object\n"
     ]
    }
   ],
   "source": [
    "a = [\"US\", \"CA\"]\n",
    "\n",
    "b = countries.loc[a]\n",
    "\n",
    "print(b)"
   ]
  },
  {
   "cell_type": "code",
   "execution_count": 9,
   "metadata": {},
   "outputs": [],
   "source": [
    "countries_df = pd.DataFrame({\n",
    "    'country': ['Англия', 'Канада', 'США', 'Россия', 'Украина', 'Беларусь', 'Казахстан'],\n",
    "    'population': [56.29, 38.05, 322.28, 146.24, 45.5, 9.5, 17.04],\n",
    "    'square': [133396, 9984670, 9826630, 17125191, 603628, 207600, 2724902]\n",
    "})\n",
    "\n",
    "countries_df.to_csv('data/countries.csv', index=False, sep=';')"
   ]
  },
  {
   "cell_type": "code",
   "execution_count": 3,
   "metadata": {},
   "outputs": [
    {
     "data": {
      "text/html": [
       "<div>\n",
       "<style scoped>\n",
       "    .dataframe tbody tr th:only-of-type {\n",
       "        vertical-align: middle;\n",
       "    }\n",
       "\n",
       "    .dataframe tbody tr th {\n",
       "        vertical-align: top;\n",
       "    }\n",
       "\n",
       "    .dataframe thead th {\n",
       "        text-align: right;\n",
       "    }\n",
       "</style>\n",
       "<table border=\"1\" class=\"dataframe\">\n",
       "  <thead>\n",
       "    <tr style=\"text-align: right;\">\n",
       "      <th></th>\n",
       "      <th>country</th>\n",
       "      <th>population</th>\n",
       "      <th>square</th>\n",
       "    </tr>\n",
       "  </thead>\n",
       "  <tbody>\n",
       "    <tr>\n",
       "      <th>0</th>\n",
       "      <td>Англия</td>\n",
       "      <td>56.29</td>\n",
       "      <td>133396</td>\n",
       "    </tr>\n",
       "    <tr>\n",
       "      <th>1</th>\n",
       "      <td>Канада</td>\n",
       "      <td>38.05</td>\n",
       "      <td>9984670</td>\n",
       "    </tr>\n",
       "    <tr>\n",
       "      <th>2</th>\n",
       "      <td>США</td>\n",
       "      <td>322.28</td>\n",
       "      <td>9826630</td>\n",
       "    </tr>\n",
       "    <tr>\n",
       "      <th>3</th>\n",
       "      <td>Россия</td>\n",
       "      <td>146.24</td>\n",
       "      <td>17125191</td>\n",
       "    </tr>\n",
       "    <tr>\n",
       "      <th>4</th>\n",
       "      <td>Украина</td>\n",
       "      <td>45.50</td>\n",
       "      <td>603628</td>\n",
       "    </tr>\n",
       "    <tr>\n",
       "      <th>5</th>\n",
       "      <td>Беларусь</td>\n",
       "      <td>9.50</td>\n",
       "      <td>207600</td>\n",
       "    </tr>\n",
       "    <tr>\n",
       "      <th>6</th>\n",
       "      <td>Казахстан</td>\n",
       "      <td>17.04</td>\n",
       "      <td>2724902</td>\n",
       "    </tr>\n",
       "  </tbody>\n",
       "</table>\n",
       "</div>"
      ],
      "text/plain": [
       "     country  population    square\n",
       "0     Англия       56.29    133396\n",
       "1     Канада       38.05   9984670\n",
       "2        США      322.28   9826630\n",
       "3     Россия      146.24  17125191\n",
       "4    Украина       45.50    603628\n",
       "5   Беларусь        9.50    207600\n",
       "6  Казахстан       17.04   2724902"
      ]
     },
     "metadata": {},
     "output_type": "display_data"
    }
   ],
   "source": [
    "countries_data = pd.read_csv('data/countries.csv', sep=';')\n",
    "display(countries_data)"
   ]
  },
  {
   "cell_type": "code",
   "execution_count": 159,
   "metadata": {},
   "outputs": [
    {
     "data": {
      "text/html": [
       "<div>\n",
       "<style scoped>\n",
       "    .dataframe tbody tr th:only-of-type {\n",
       "        vertical-align: middle;\n",
       "    }\n",
       "\n",
       "    .dataframe tbody tr th {\n",
       "        vertical-align: top;\n",
       "    }\n",
       "\n",
       "    .dataframe thead th {\n",
       "        text-align: right;\n",
       "    }\n",
       "</style>\n",
       "<table border=\"1\" class=\"dataframe\">\n",
       "  <thead>\n",
       "    <tr style=\"text-align: right;\">\n",
       "      <th></th>\n",
       "      <th>categorical</th>\n",
       "      <th>numeric</th>\n",
       "      <th>object</th>\n",
       "    </tr>\n",
       "  </thead>\n",
       "  <tbody>\n",
       "    <tr>\n",
       "      <th>1</th>\n",
       "      <td>d</td>\n",
       "      <td>1</td>\n",
       "      <td>a</td>\n",
       "    </tr>\n",
       "    <tr>\n",
       "      <th>2</th>\n",
       "      <td>e</td>\n",
       "      <td>2</td>\n",
       "      <td>b</td>\n",
       "    </tr>\n",
       "    <tr>\n",
       "      <th>3</th>\n",
       "      <td>f</td>\n",
       "      <td>3</td>\n",
       "      <td>c</td>\n",
       "    </tr>\n",
       "  </tbody>\n",
       "</table>\n",
       "</div>"
      ],
      "text/plain": [
       "  categorical  numeric object\n",
       "1           d        1      a\n",
       "2           e        2      b\n",
       "3           f        3      c"
      ]
     },
     "metadata": {},
     "output_type": "display_data"
    }
   ],
   "source": [
    "df = pd.DataFrame({'categorical': pd.Categorical(['d','e','f']),\n",
    "                   'numeric': [1, 2, 3],\n",
    "                   'object': ['a', 'b', 'c']\n",
    "                  })\n",
    "df.index = [\"1\", \"2\", \"3\"]\n",
    "display(df)"
   ]
  },
  {
   "cell_type": "code",
   "execution_count": 60,
   "metadata": {},
   "outputs": [],
   "source": [
    "melb_data = pd.read_csv('data/melb_data.csv', sep=',')"
   ]
  },
  {
   "cell_type": "code",
   "execution_count": 30,
   "metadata": {},
   "outputs": [],
   "source": [
    "import numpy as np"
   ]
  },
  {
   "cell_type": "code",
   "execution_count": 61,
   "metadata": {},
   "outputs": [
    {
     "data": {
      "text/plain": [
       "1369"
      ]
     },
     "metadata": {},
     "output_type": "display_data"
    }
   ],
   "source": [
    "# display(melb_data.columns)\n",
    "# display (melb_data.loc[90, \"Date\"])\n",
    "\n",
    "# display (round (melb_data.loc[3521, \"Landsize\"] / melb_data.loc[1690, \"Landsize\"],0))\n",
    "\n",
    "# display (melb_data.head(8))\n",
    "# display (melb_data.tail(7))\n",
    "\n",
    "# display (melb_data.info())\n",
    "\n",
    "count = 0\n",
    "\n",
    "for i in melb_data.index:\n",
    "    if pd.isna(melb_data.loc[i,\"CouncilArea\"]):\n",
    "        count += 1\n",
    "display (count)\n",
    "\n"
   ]
  },
  {
   "cell_type": "code",
   "execution_count": null,
   "metadata": {},
   "outputs": [],
   "source": [
    "melb_data['Car'] = melb_data['Car'].astype('int64')\n",
    "melb_data['Bedroom'] = melb_data['Bedroom'].astype('int64')\n",
    "melb_data['Bathroom'] = melb_data['Bathroom'].astype('int64')\n",
    "melb_data['Propertycount'] = melb_data['Propertycount'].astype('int64')\n",
    "melb_data['YearBuilt'] = melb_data['YearBuilt'].astype('int64')\n",
    "melb_data.info()"
   ]
  },
  {
   "cell_type": "code",
   "execution_count": 56,
   "metadata": {},
   "outputs": [
    {
     "name": "stdout",
     "output_type": "stream",
     "text": [
      "<class 'pandas.core.frame.DataFrame'>\n",
      "RangeIndex: 13580 entries, 0 to 13579\n",
      "Data columns (total 23 columns):\n",
      " #   Column         Non-Null Count  Dtype  \n",
      "---  ------         --------------  -----  \n",
      " 0   index          13580 non-null  int64  \n",
      " 1   Suburb         13580 non-null  object \n",
      " 2   Address        13580 non-null  object \n",
      " 3   Rooms          13580 non-null  int64  \n",
      " 4   Type           13580 non-null  object \n",
      " 5   Price          13580 non-null  float64\n",
      " 6   Method         13580 non-null  object \n",
      " 7   SellerG        13580 non-null  object \n",
      " 8   Date           13580 non-null  object \n",
      " 9   Distance       13580 non-null  float64\n",
      " 10  Postcode       13580 non-null  int64  \n",
      " 11  Bedroom        13580 non-null  int64  \n",
      " 12  Bathroom       13580 non-null  int64  \n",
      " 13  Car            13580 non-null  int64  \n",
      " 14  Landsize       13580 non-null  float64\n",
      " 15  BuildingArea   13580 non-null  float64\n",
      " 16  YearBuilt      13580 non-null  int64  \n",
      " 17  CouncilArea    12211 non-null  object \n",
      " 18  Lattitude      13580 non-null  float64\n",
      " 19  Longtitude     13580 non-null  float64\n",
      " 20  Regionname     13580 non-null  object \n",
      " 21  Propertycount  13580 non-null  int64  \n",
      " 22  Coordinates    13580 non-null  object \n",
      "dtypes: float64(6), int64(8), object(9)\n",
      "memory usage: 2.4+ MB\n"
     ]
    }
   ],
   "source": [
    "melb_data.info()"
   ]
  },
  {
   "cell_type": "code",
   "execution_count": null,
   "metadata": {},
   "outputs": [],
   "source": []
  },
  {
   "cell_type": "code",
   "execution_count": 70,
   "metadata": {},
   "outputs": [
    {
     "data": {
      "text/html": [
       "<div>\n",
       "<style scoped>\n",
       "    .dataframe tbody tr th:only-of-type {\n",
       "        vertical-align: middle;\n",
       "    }\n",
       "\n",
       "    .dataframe tbody tr th {\n",
       "        vertical-align: top;\n",
       "    }\n",
       "\n",
       "    .dataframe thead th {\n",
       "        text-align: right;\n",
       "    }\n",
       "</style>\n",
       "<table border=\"1\" class=\"dataframe\">\n",
       "  <thead>\n",
       "    <tr style=\"text-align: right;\">\n",
       "      <th></th>\n",
       "      <th>Price</th>\n",
       "      <th>Longtitude</th>\n",
       "      <th>Lattitude</th>\n",
       "    </tr>\n",
       "  </thead>\n",
       "  <tbody>\n",
       "    <tr>\n",
       "      <th>count</th>\n",
       "      <td>1.358000e+04</td>\n",
       "      <td>13580.000000</td>\n",
       "      <td>13580.000000</td>\n",
       "    </tr>\n",
       "    <tr>\n",
       "      <th>mean</th>\n",
       "      <td>1.075684e+06</td>\n",
       "      <td>144.995216</td>\n",
       "      <td>-37.809203</td>\n",
       "    </tr>\n",
       "    <tr>\n",
       "      <th>std</th>\n",
       "      <td>6.393107e+05</td>\n",
       "      <td>0.103916</td>\n",
       "      <td>0.079260</td>\n",
       "    </tr>\n",
       "    <tr>\n",
       "      <th>min</th>\n",
       "      <td>8.500000e+04</td>\n",
       "      <td>144.431810</td>\n",
       "      <td>-38.182550</td>\n",
       "    </tr>\n",
       "    <tr>\n",
       "      <th>25%</th>\n",
       "      <td>6.500000e+05</td>\n",
       "      <td>144.929600</td>\n",
       "      <td>-37.856822</td>\n",
       "    </tr>\n",
       "    <tr>\n",
       "      <th>50%</th>\n",
       "      <td>9.030000e+05</td>\n",
       "      <td>145.000100</td>\n",
       "      <td>-37.802355</td>\n",
       "    </tr>\n",
       "    <tr>\n",
       "      <th>75%</th>\n",
       "      <td>1.330000e+06</td>\n",
       "      <td>145.058305</td>\n",
       "      <td>-37.756400</td>\n",
       "    </tr>\n",
       "    <tr>\n",
       "      <th>max</th>\n",
       "      <td>9.000000e+06</td>\n",
       "      <td>145.526350</td>\n",
       "      <td>-37.408530</td>\n",
       "    </tr>\n",
       "  </tbody>\n",
       "</table>\n",
       "</div>"
      ],
      "text/plain": [
       "              Price    Longtitude     Lattitude\n",
       "count  1.358000e+04  13580.000000  13580.000000\n",
       "mean   1.075684e+06    144.995216    -37.809203\n",
       "std    6.393107e+05      0.103916      0.079260\n",
       "min    8.500000e+04    144.431810    -38.182550\n",
       "25%    6.500000e+05    144.929600    -37.856822\n",
       "50%    9.030000e+05    145.000100    -37.802355\n",
       "75%    1.330000e+06    145.058305    -37.756400\n",
       "max    9.000000e+06    145.526350    -37.408530"
      ]
     },
     "execution_count": 70,
     "metadata": {},
     "output_type": "execute_result"
    }
   ],
   "source": [
    "melb_data.describe().loc[:, ['Price', 'Longtitude' , 'Lattitude']]"
   ]
  },
  {
   "cell_type": "code",
   "execution_count": 155,
   "metadata": {},
   "outputs": [
    {
     "data": {
      "text/html": [
       "<div>\n",
       "<style scoped>\n",
       "    .dataframe tbody tr th:only-of-type {\n",
       "        vertical-align: middle;\n",
       "    }\n",
       "\n",
       "    .dataframe tbody tr th {\n",
       "        vertical-align: top;\n",
       "    }\n",
       "\n",
       "    .dataframe thead th {\n",
       "        text-align: right;\n",
       "    }\n",
       "</style>\n",
       "<table border=\"1\" class=\"dataframe\">\n",
       "  <thead>\n",
       "    <tr style=\"text-align: right;\">\n",
       "      <th></th>\n",
       "      <th>index</th>\n",
       "      <th>Rooms</th>\n",
       "      <th>Price</th>\n",
       "      <th>Distance</th>\n",
       "      <th>Postcode</th>\n",
       "      <th>Bedroom</th>\n",
       "      <th>Bathroom</th>\n",
       "      <th>Car</th>\n",
       "      <th>Landsize</th>\n",
       "      <th>BuildingArea</th>\n",
       "      <th>YearBuilt</th>\n",
       "      <th>Lattitude</th>\n",
       "      <th>Longtitude</th>\n",
       "      <th>Propertycount</th>\n",
       "    </tr>\n",
       "  </thead>\n",
       "  <tbody>\n",
       "    <tr>\n",
       "      <th>count</th>\n",
       "      <td>13580.000000</td>\n",
       "      <td>13580.000000</td>\n",
       "      <td>1.358000e+04</td>\n",
       "      <td>13580.000000</td>\n",
       "      <td>13580.000000</td>\n",
       "      <td>13580.000000</td>\n",
       "      <td>13580.000000</td>\n",
       "      <td>13580.000000</td>\n",
       "      <td>13580.000000</td>\n",
       "      <td>13580.000000</td>\n",
       "      <td>13580.000000</td>\n",
       "      <td>13580.000000</td>\n",
       "      <td>13580.000000</td>\n",
       "      <td>13580.000000</td>\n",
       "    </tr>\n",
       "    <tr>\n",
       "      <th>mean</th>\n",
       "      <td>6789.500000</td>\n",
       "      <td>2.937997</td>\n",
       "      <td>1.075684e+06</td>\n",
       "      <td>10.137776</td>\n",
       "      <td>3105.301915</td>\n",
       "      <td>2.914728</td>\n",
       "      <td>1.534242</td>\n",
       "      <td>1.611856</td>\n",
       "      <td>558.416127</td>\n",
       "      <td>139.633972</td>\n",
       "      <td>1966.788218</td>\n",
       "      <td>-37.809203</td>\n",
       "      <td>144.995216</td>\n",
       "      <td>7454.417378</td>\n",
       "    </tr>\n",
       "    <tr>\n",
       "      <th>std</th>\n",
       "      <td>3920.352663</td>\n",
       "      <td>0.955748</td>\n",
       "      <td>6.393107e+05</td>\n",
       "      <td>5.868725</td>\n",
       "      <td>90.676964</td>\n",
       "      <td>0.965921</td>\n",
       "      <td>0.691712</td>\n",
       "      <td>0.960793</td>\n",
       "      <td>3990.669241</td>\n",
       "      <td>392.217403</td>\n",
       "      <td>29.088642</td>\n",
       "      <td>0.079260</td>\n",
       "      <td>0.103916</td>\n",
       "      <td>4378.581772</td>\n",
       "    </tr>\n",
       "    <tr>\n",
       "      <th>min</th>\n",
       "      <td>0.000000</td>\n",
       "      <td>1.000000</td>\n",
       "      <td>8.500000e+04</td>\n",
       "      <td>0.000000</td>\n",
       "      <td>3000.000000</td>\n",
       "      <td>0.000000</td>\n",
       "      <td>0.000000</td>\n",
       "      <td>0.000000</td>\n",
       "      <td>0.000000</td>\n",
       "      <td>0.000000</td>\n",
       "      <td>1196.000000</td>\n",
       "      <td>-38.182550</td>\n",
       "      <td>144.431810</td>\n",
       "      <td>249.000000</td>\n",
       "    </tr>\n",
       "    <tr>\n",
       "      <th>25%</th>\n",
       "      <td>3394.750000</td>\n",
       "      <td>2.000000</td>\n",
       "      <td>6.500000e+05</td>\n",
       "      <td>6.100000</td>\n",
       "      <td>3044.000000</td>\n",
       "      <td>2.000000</td>\n",
       "      <td>1.000000</td>\n",
       "      <td>1.000000</td>\n",
       "      <td>177.000000</td>\n",
       "      <td>122.000000</td>\n",
       "      <td>1960.000000</td>\n",
       "      <td>-37.856822</td>\n",
       "      <td>144.929600</td>\n",
       "      <td>4380.000000</td>\n",
       "    </tr>\n",
       "    <tr>\n",
       "      <th>50%</th>\n",
       "      <td>6789.500000</td>\n",
       "      <td>3.000000</td>\n",
       "      <td>9.030000e+05</td>\n",
       "      <td>9.200000</td>\n",
       "      <td>3084.000000</td>\n",
       "      <td>3.000000</td>\n",
       "      <td>1.000000</td>\n",
       "      <td>2.000000</td>\n",
       "      <td>440.000000</td>\n",
       "      <td>126.000000</td>\n",
       "      <td>1970.000000</td>\n",
       "      <td>-37.802355</td>\n",
       "      <td>145.000100</td>\n",
       "      <td>6555.000000</td>\n",
       "    </tr>\n",
       "    <tr>\n",
       "      <th>75%</th>\n",
       "      <td>10184.250000</td>\n",
       "      <td>3.000000</td>\n",
       "      <td>1.330000e+06</td>\n",
       "      <td>13.000000</td>\n",
       "      <td>3148.000000</td>\n",
       "      <td>3.000000</td>\n",
       "      <td>2.000000</td>\n",
       "      <td>2.000000</td>\n",
       "      <td>651.000000</td>\n",
       "      <td>129.940000</td>\n",
       "      <td>1975.000000</td>\n",
       "      <td>-37.756400</td>\n",
       "      <td>145.058305</td>\n",
       "      <td>10331.000000</td>\n",
       "    </tr>\n",
       "    <tr>\n",
       "      <th>max</th>\n",
       "      <td>13579.000000</td>\n",
       "      <td>10.000000</td>\n",
       "      <td>9.000000e+06</td>\n",
       "      <td>48.100000</td>\n",
       "      <td>3977.000000</td>\n",
       "      <td>20.000000</td>\n",
       "      <td>8.000000</td>\n",
       "      <td>10.000000</td>\n",
       "      <td>433014.000000</td>\n",
       "      <td>44515.000000</td>\n",
       "      <td>2018.000000</td>\n",
       "      <td>-37.408530</td>\n",
       "      <td>145.526350</td>\n",
       "      <td>21650.000000</td>\n",
       "    </tr>\n",
       "  </tbody>\n",
       "</table>\n",
       "</div>"
      ],
      "text/plain": [
       "              index         Rooms         Price      Distance      Postcode  \\\n",
       "count  13580.000000  13580.000000  1.358000e+04  13580.000000  13580.000000   \n",
       "mean    6789.500000      2.937997  1.075684e+06     10.137776   3105.301915   \n",
       "std     3920.352663      0.955748  6.393107e+05      5.868725     90.676964   \n",
       "min        0.000000      1.000000  8.500000e+04      0.000000   3000.000000   \n",
       "25%     3394.750000      2.000000  6.500000e+05      6.100000   3044.000000   \n",
       "50%     6789.500000      3.000000  9.030000e+05      9.200000   3084.000000   \n",
       "75%    10184.250000      3.000000  1.330000e+06     13.000000   3148.000000   \n",
       "max    13579.000000     10.000000  9.000000e+06     48.100000   3977.000000   \n",
       "\n",
       "            Bedroom      Bathroom           Car       Landsize  BuildingArea  \\\n",
       "count  13580.000000  13580.000000  13580.000000   13580.000000  13580.000000   \n",
       "mean       2.914728      1.534242      1.611856     558.416127    139.633972   \n",
       "std        0.965921      0.691712      0.960793    3990.669241    392.217403   \n",
       "min        0.000000      0.000000      0.000000       0.000000      0.000000   \n",
       "25%        2.000000      1.000000      1.000000     177.000000    122.000000   \n",
       "50%        3.000000      1.000000      2.000000     440.000000    126.000000   \n",
       "75%        3.000000      2.000000      2.000000     651.000000    129.940000   \n",
       "max       20.000000      8.000000     10.000000  433014.000000  44515.000000   \n",
       "\n",
       "          YearBuilt     Lattitude    Longtitude  Propertycount  \n",
       "count  13580.000000  13580.000000  13580.000000   13580.000000  \n",
       "mean    1966.788218    -37.809203    144.995216    7454.417378  \n",
       "std       29.088642      0.079260      0.103916    4378.581772  \n",
       "min     1196.000000    -38.182550    144.431810     249.000000  \n",
       "25%     1960.000000    -37.856822    144.929600    4380.000000  \n",
       "50%     1970.000000    -37.802355    145.000100    6555.000000  \n",
       "75%     1975.000000    -37.756400    145.058305   10331.000000  \n",
       "max     2018.000000    -37.408530    145.526350   21650.000000  "
      ]
     },
     "execution_count": 155,
     "metadata": {},
     "output_type": "execute_result"
    }
   ],
   "source": [
    "melb_data.describe()"
   ]
  },
  {
   "cell_type": "code",
   "execution_count": 51,
   "metadata": {},
   "outputs": [
    {
     "data": {
      "text/html": [
       "<div>\n",
       "<style scoped>\n",
       "    .dataframe tbody tr th:only-of-type {\n",
       "        vertical-align: middle;\n",
       "    }\n",
       "\n",
       "    .dataframe tbody tr th {\n",
       "        vertical-align: top;\n",
       "    }\n",
       "\n",
       "    .dataframe thead th {\n",
       "        text-align: right;\n",
       "    }\n",
       "</style>\n",
       "<table border=\"1\" class=\"dataframe\">\n",
       "  <thead>\n",
       "    <tr style=\"text-align: right;\">\n",
       "      <th></th>\n",
       "      <th>Suburb</th>\n",
       "      <th>Address</th>\n",
       "      <th>Type</th>\n",
       "      <th>Method</th>\n",
       "      <th>SellerG</th>\n",
       "      <th>Date</th>\n",
       "      <th>CouncilArea</th>\n",
       "      <th>Regionname</th>\n",
       "      <th>Coordinates</th>\n",
       "    </tr>\n",
       "  </thead>\n",
       "  <tbody>\n",
       "    <tr>\n",
       "      <th>count</th>\n",
       "      <td>13580</td>\n",
       "      <td>13580</td>\n",
       "      <td>13580</td>\n",
       "      <td>13580</td>\n",
       "      <td>13580</td>\n",
       "      <td>13580</td>\n",
       "      <td>12211</td>\n",
       "      <td>13580</td>\n",
       "      <td>13580</td>\n",
       "    </tr>\n",
       "    <tr>\n",
       "      <th>unique</th>\n",
       "      <td>314</td>\n",
       "      <td>13378</td>\n",
       "      <td>3</td>\n",
       "      <td>5</td>\n",
       "      <td>268</td>\n",
       "      <td>58</td>\n",
       "      <td>33</td>\n",
       "      <td>8</td>\n",
       "      <td>13097</td>\n",
       "    </tr>\n",
       "    <tr>\n",
       "      <th>top</th>\n",
       "      <td>Reservoir</td>\n",
       "      <td>36 Aberfeldie St</td>\n",
       "      <td>h</td>\n",
       "      <td>S</td>\n",
       "      <td>Nelson</td>\n",
       "      <td>27/05/2017</td>\n",
       "      <td>Moreland</td>\n",
       "      <td>Southern Metropolitan</td>\n",
       "      <td>-37.8361, 144.9966</td>\n",
       "    </tr>\n",
       "    <tr>\n",
       "      <th>freq</th>\n",
       "      <td>359</td>\n",
       "      <td>3</td>\n",
       "      <td>9449</td>\n",
       "      <td>9022</td>\n",
       "      <td>1565</td>\n",
       "      <td>473</td>\n",
       "      <td>1163</td>\n",
       "      <td>4695</td>\n",
       "      <td>12</td>\n",
       "    </tr>\n",
       "  </tbody>\n",
       "</table>\n",
       "</div>"
      ],
      "text/plain": [
       "           Suburb           Address   Type Method SellerG        Date  \\\n",
       "count       13580             13580  13580  13580   13580       13580   \n",
       "unique        314             13378      3      5     268          58   \n",
       "top     Reservoir  36 Aberfeldie St      h      S  Nelson  27/05/2017   \n",
       "freq          359                 3   9449   9022    1565         473   \n",
       "\n",
       "       CouncilArea             Regionname         Coordinates  \n",
       "count        12211                  13580               13580  \n",
       "unique          33                      8               13097  \n",
       "top       Moreland  Southern Metropolitan  -37.8361, 144.9966  \n",
       "freq          1163                   4695                  12  "
      ]
     },
     "execution_count": 51,
     "metadata": {},
     "output_type": "execute_result"
    }
   ],
   "source": [
    "melb_data.describe(include=['object'])\n",
    "# melb_data.loc[10:20, [\"Price\", \"Suburb\"]]"
   ]
  },
  {
   "cell_type": "code",
   "execution_count": 64,
   "metadata": {},
   "outputs": [
    {
     "data": {
      "text/plain": [
       "Index(['index', 'Suburb', 'Address', 'Rooms', 'Type', 'Price', 'Method',\n",
       "       'SellerG', 'Date', 'Distance', 'Postcode', 'Bedroom', 'Bathroom', 'Car',\n",
       "       'Landsize', 'BuildingArea', 'YearBuilt', 'CouncilArea', 'Lattitude',\n",
       "       'Longtitude', 'Regionname', 'Propertycount', 'Coordinates'],\n",
       "      dtype='object')"
      ]
     },
     "metadata": {},
     "output_type": "display_data"
    }
   ],
   "source": [
    "#for i in melb_data.columns:\n",
    "#    print(i)\n",
    "\n",
    "display(melb_data.columns)"
   ]
  },
  {
   "cell_type": "code",
   "execution_count": 154,
   "metadata": {},
   "outputs": [
    {
     "data": {
      "text/plain": [
       "Longtitude  Lattitude\n",
       "144.99660   -37.83610    12\n",
       "144.98500   -37.80350     8\n",
       "144.94490   -37.84240     6\n",
       "144.99060   -37.82310     5\n",
       "144.94120   -37.84150     5\n",
       "                         ..\n",
       "144.96076   -37.76600     1\n",
       "144.96079   -37.76733     1\n",
       "144.96080   -37.77060     1\n",
       "            -37.76162     1\n",
       "145.52635   -37.64685     1\n",
       "Length: 13097, dtype: int64"
      ]
     },
     "execution_count": 154,
     "metadata": {},
     "output_type": "execute_result"
    }
   ],
   "source": [
    "melb_data[['Longtitude', 'Lattitude']].value_counts()"
   ]
  },
  {
   "cell_type": "code",
   "execution_count": 68,
   "metadata": {},
   "outputs": [
    {
     "data": {
      "text/plain": [
       "h    0.695803\n",
       "u    0.222165\n",
       "t    0.082032\n",
       "Name: Type, dtype: float64"
      ]
     },
     "execution_count": 68,
     "metadata": {},
     "output_type": "execute_result"
    }
   ],
   "source": [
    "melb_data['Type'].value_counts(normalize=True)"
   ]
  },
  {
   "cell_type": "code",
   "execution_count": 162,
   "metadata": {},
   "outputs": [
    {
     "data": {
      "text/plain": [
       "0    3\n",
       "Name: Bedroom, dtype: int64"
      ]
     },
     "execution_count": 162,
     "metadata": {},
     "output_type": "execute_result"
    }
   ],
   "source": [
    "melb_data['Bedroom'].mode()"
   ]
  },
  {
   "cell_type": "code",
   "execution_count": 169,
   "metadata": {},
   "outputs": [
    {
     "data": {
      "text/plain": [
       "6.0"
      ]
     },
     "execution_count": 169,
     "metadata": {},
     "output_type": "execute_result"
    }
   ],
   "source": [
    "round(melb_data['Distance'].std(), 0)"
   ]
  },
  {
   "cell_type": "code",
   "execution_count": 4,
   "metadata": {},
   "outputs": [
    {
     "data": {
      "text/plain": [
       "10.0"
      ]
     },
     "metadata": {},
     "output_type": "display_data"
    }
   ],
   "source": [
    "area_mean = melb_data['BuildingArea'].mean()\n",
    "area_median = melb_data['BuildingArea'].median()\n",
    "\n",
    "# display (area_mean, area_median)\n",
    "display(round(100 * abs(area_median - area_mean) / area_mean, 0))"
   ]
  },
  {
   "cell_type": "code",
   "execution_count": 27,
   "metadata": {},
   "outputs": [
    {
     "data": {
      "text/plain": [
       "1007"
      ]
     },
     "metadata": {},
     "output_type": "display_data"
    }
   ],
   "source": [
    "mask = melb_data['Price'] > 2000000\n",
    "# display(mask)\n",
    "display(melb_data[mask].shape[0])"
   ]
  },
  {
   "cell_type": "code",
   "execution_count": 36,
   "metadata": {},
   "outputs": [
    {
     "data": {
      "text/plain": [
       "34"
      ]
     },
     "execution_count": 36,
     "metadata": {},
     "output_type": "execute_result"
    }
   ],
   "source": [
    "melb_data[melb_data['Bathroom'] == 0].shape[0]"
   ]
  },
  {
   "cell_type": "code",
   "execution_count": 33,
   "metadata": {},
   "outputs": [
    {
     "data": {
      "text/plain": [
       "68"
      ]
     },
     "execution_count": 33,
     "metadata": {},
     "output_type": "execute_result"
    }
   ],
   "source": [
    "melb_data[((melb_data['Rooms'] == 3) | (melb_data['BuildingArea'] > 100)) & (melb_data['Price'] < 300000)].shape[0]"
   ]
  },
  {
   "cell_type": "code",
   "execution_count": 39,
   "metadata": {},
   "outputs": [
    {
     "data": {
      "text/plain": [
       "5"
      ]
     },
     "execution_count": 39,
     "metadata": {},
     "output_type": "execute_result"
    }
   ],
   "source": [
    "melb_data[((melb_data['Price'] > 3e+6) & (melb_data['SellerG'] == \"Nelson\"))].shape[0]"
   ]
  },
  {
   "cell_type": "code",
   "execution_count": 34,
   "metadata": {},
   "outputs": [
    {
     "data": {
      "text/plain": [
       "126.0"
      ]
     },
     "execution_count": 34,
     "metadata": {},
     "output_type": "execute_result"
    }
   ],
   "source": [
    "mean_price = melb_data['Price'].mean()\n",
    "melb_data[melb_data['Price'] > mean_price]['BuildingArea'].median()"
   ]
  },
  {
   "cell_type": "code",
   "execution_count": 42,
   "metadata": {},
   "outputs": [
    {
     "data": {
      "text/plain": [
       "412500.0"
      ]
     },
     "execution_count": 42,
     "metadata": {},
     "output_type": "execute_result"
    }
   ],
   "source": [
    "# Минимальная цена участка без здания\n",
    "melb_data[melb_data['BuildingArea'] == 0]['Price'].min()"
   ]
  },
  {
   "cell_type": "code",
   "execution_count": 50,
   "metadata": {},
   "outputs": [
    {
     "data": {
      "text/plain": [
       "769238.6363636364"
      ]
     },
     "execution_count": 50,
     "metadata": {},
     "output_type": "execute_result"
    }
   ],
   "source": [
    "melb_data[(melb_data['Price'] < 1e+6) & ((melb_data['Rooms'] > 5) | (melb_data['YearBuilt'] > 2015))]['Price'].mean()"
   ]
  },
  {
   "cell_type": "code",
   "execution_count": 52,
   "metadata": {},
   "outputs": [
    {
     "data": {
      "text/plain": [
       "count                      9220\n",
       "unique                        8\n",
       "top       Northern Metropolitan\n",
       "freq                       2737\n",
       "Name: Regionname, dtype: object"
      ]
     },
     "execution_count": 52,
     "metadata": {},
     "output_type": "execute_result"
    }
   ],
   "source": [
    "melb_data[(melb_data['Type'] == 'h') & (melb_data['Price'] < 3e+6)]['Regionname'].describe()"
   ]
  },
  {
   "cell_type": "code",
   "execution_count": 55,
   "metadata": {},
   "outputs": [],
   "source": [
    "students_data = pd.read_csv('data/students_performance.csv', sep=',')"
   ]
  },
  {
   "cell_type": "code",
   "execution_count": 59,
   "metadata": {},
   "outputs": [
    {
     "data": {
      "text/html": [
       "<div>\n",
       "<style scoped>\n",
       "    .dataframe tbody tr th:only-of-type {\n",
       "        vertical-align: middle;\n",
       "    }\n",
       "\n",
       "    .dataframe tbody tr th {\n",
       "        vertical-align: top;\n",
       "    }\n",
       "\n",
       "    .dataframe thead th {\n",
       "        text-align: right;\n",
       "    }\n",
       "</style>\n",
       "<table border=\"1\" class=\"dataframe\">\n",
       "  <thead>\n",
       "    <tr style=\"text-align: right;\">\n",
       "      <th></th>\n",
       "      <th>gender</th>\n",
       "      <th>race/ethnicity</th>\n",
       "      <th>parental level of education</th>\n",
       "      <th>lunch</th>\n",
       "      <th>test preparation course</th>\n",
       "      <th>math score</th>\n",
       "      <th>reading score</th>\n",
       "      <th>writing score</th>\n",
       "    </tr>\n",
       "  </thead>\n",
       "  <tbody>\n",
       "    <tr>\n",
       "      <th>0</th>\n",
       "      <td>female</td>\n",
       "      <td>group B</td>\n",
       "      <td>bachelor's degree</td>\n",
       "      <td>standard</td>\n",
       "      <td>none</td>\n",
       "      <td>72</td>\n",
       "      <td>72</td>\n",
       "      <td>74</td>\n",
       "    </tr>\n",
       "    <tr>\n",
       "      <th>1</th>\n",
       "      <td>female</td>\n",
       "      <td>group C</td>\n",
       "      <td>some college</td>\n",
       "      <td>standard</td>\n",
       "      <td>completed</td>\n",
       "      <td>69</td>\n",
       "      <td>90</td>\n",
       "      <td>88</td>\n",
       "    </tr>\n",
       "    <tr>\n",
       "      <th>2</th>\n",
       "      <td>female</td>\n",
       "      <td>group B</td>\n",
       "      <td>master's degree</td>\n",
       "      <td>standard</td>\n",
       "      <td>none</td>\n",
       "      <td>90</td>\n",
       "      <td>95</td>\n",
       "      <td>93</td>\n",
       "    </tr>\n",
       "    <tr>\n",
       "      <th>3</th>\n",
       "      <td>male</td>\n",
       "      <td>group A</td>\n",
       "      <td>associate's degree</td>\n",
       "      <td>free/reduced</td>\n",
       "      <td>none</td>\n",
       "      <td>47</td>\n",
       "      <td>57</td>\n",
       "      <td>44</td>\n",
       "    </tr>\n",
       "    <tr>\n",
       "      <th>4</th>\n",
       "      <td>male</td>\n",
       "      <td>group C</td>\n",
       "      <td>some college</td>\n",
       "      <td>standard</td>\n",
       "      <td>none</td>\n",
       "      <td>76</td>\n",
       "      <td>78</td>\n",
       "      <td>75</td>\n",
       "    </tr>\n",
       "  </tbody>\n",
       "</table>\n",
       "</div>"
      ],
      "text/plain": [
       "   gender race/ethnicity parental level of education         lunch  \\\n",
       "0  female        group B           bachelor's degree      standard   \n",
       "1  female        group C                some college      standard   \n",
       "2  female        group B             master's degree      standard   \n",
       "3    male        group A          associate's degree  free/reduced   \n",
       "4    male        group C                some college      standard   \n",
       "\n",
       "  test preparation course  math score  reading score  writing score  \n",
       "0                    none          72             72             74  \n",
       "1               completed          69             90             88  \n",
       "2                    none          90             95             93  \n",
       "3                    none          47             57             44  \n",
       "4                    none          76             78             75  "
      ]
     },
     "execution_count": 59,
     "metadata": {},
     "output_type": "execute_result"
    }
   ],
   "source": [
    "students_data.head()\n",
    "# students_data.columns"
   ]
  },
  {
   "cell_type": "code",
   "execution_count": 85,
   "metadata": {},
   "outputs": [
    {
     "data": {
      "text/plain": [
       "some college          226\n",
       "associate's degree    222\n",
       "high school           196\n",
       "some high school      179\n",
       "bachelor's degree     118\n",
       "master's degree        59\n",
       "Name: parental level of education, dtype: int64"
      ]
     },
     "execution_count": 85,
     "metadata": {},
     "output_type": "execute_result"
    }
   ],
   "source": [
    "### ФИНАЛЬНЫЙ ТЕСТ МОДУЛЯ\n",
    "\n",
    "# students_data.info()\n",
    "# students_data.loc[155, 'writing score']\n",
    "# students_data['math score'].mean()\n",
    "# students_data['race/ethnicity'].value_counts()\n",
    "# students_data[students_data['test preparation course'] == 'completed']['reading score'].mean()\n",
    "# students_data[students_data['math score'] == 0].value_counts().shape[0]\n",
    "\n",
    "# students_data[students_data['lunch'] == 'standard']['math score'].mean()\n",
    "# students_data[students_data['lunch'] == 'free/reduced']['math score'].mean()\n",
    "\n",
    "# students_data[students_data['parental level of education'] == 'bachelor\\'s degree'].value_counts() # тут я экранирую кавычки символом \\, а можно заключить в двойные кавычки \"\"\n",
    "students_data['parental level of education'].value_counts()\n",
    "\n",
    "# a = students_data[students_data['race/ethnicity'] == 'group A']['writing score'].median()\n",
    "# b = students_data[students_data['race/ethnicity'] == 'group C']['writing score'].mean()\n",
    "# display (round(abs(a-b),0))"
   ]
  }
 ],
 "metadata": {
  "kernelspec": {
   "display_name": "Python 3",
   "language": "python",
   "name": "python3"
  },
  "language_info": {
   "codemirror_mode": {
    "name": "ipython",
    "version": 3
   },
   "file_extension": ".py",
   "mimetype": "text/x-python",
   "name": "python",
   "nbconvert_exporter": "python",
   "pygments_lexer": "ipython3",
   "version": "3.10.9 (tags/v3.10.9:1dd9be6, Dec  6 2022, 20:01:21) [MSC v.1934 64 bit (AMD64)]"
  },
  "orig_nbformat": 4,
  "vscode": {
   "interpreter": {
    "hash": "0a1711d0bf5b863f53104549f70b879233b46cc07d7206b040e92c4d761b405c"
   }
  }
 },
 "nbformat": 4,
 "nbformat_minor": 2
}
